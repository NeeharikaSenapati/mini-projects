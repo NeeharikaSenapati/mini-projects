{
 "cells": [
  {
   "cell_type": "markdown",
   "id": "c8ae2e55",
   "metadata": {},
   "source": [
    "# Project Name\n",
    "Statistics and Exploratory Data Analysis Project -SET 1\n",
    "Overview\n",
    "This Statistics and EDA project is designed to train and test you on basic Data Exploratory\n",
    "and Statistical techniques used in the industry today. Apart from bringing you to speed with\n",
    "basic descriptive and inferential methods, you will also deep dive into a dataset and\n",
    "perform thorough cleaning and analysis in order to draw useful business insights from the\n",
    "data. This will expose you to what data scientists do most often–Exploratory Data Analysis"
   ]
  },
  {
   "cell_type": "markdown",
   "id": "8a5e2ab9",
   "metadata": {},
   "source": [
    "Goals\n",
    "1. Using the core statistical theoretical concepts and knowledge to solve real time problem\n",
    "statements.\n",
    "2. Visualize a real time industry scenario where one can use these statistical concepts.\n",
    "3. Detailed data analysis and number crunching using statistics\n",
    "4. Exhaustive report building using EDA and visualization techniques to help the business\n",
    "take decisions using insights from the data\n",
    "\n",
    "Specifications\n",
    "\n",
    "\n",
    "Part -I is concept based and walks you through various concepts of descriptive statistics,\n",
    "probability distributions and inferential statistics including confidence intervals and\n",
    "hypothesis testing.\n",
    "\n",
    "Part -II on the other hand is dataset based and explore various data cleaning options, data\n",
    "analysis options and using EDA to derive deep and meaningful insights for the business"
   ]
  },
  {
   "cell_type": "raw",
   "id": "d6b885db",
   "metadata": {},
   "source": [
    "Milestones\n",
    "\n",
    "I. Two pillars of statistic - After completing solving the Part-A questions write in\n",
    "your own words ( 200 to 500 words) what is the importance of descriptive and\n",
    "inferential statistics and how each helps us to get better insights of the\n",
    "problem at hand\n",
    "\n",
    "II. Exploratory data analysis - A thorough understanding of the dataset is the key\n",
    "to obtaining success in solving business problems using data science. After\n",
    "solving the EDA for the dataset,come up with your suggestions to the\n",
    "management for steps(( 200 to 500 words) to take to improve the business"
   ]
  },
  {
   "cell_type": "code",
   "execution_count": 1,
   "id": "a1c2163a",
   "metadata": {},
   "outputs": [],
   "source": [
    "# import all libraries\n",
    "import pandas as pd\n",
    "import numpy as np\n",
    "import matplotlib.pyplot as plt\n",
    "import seaborn as sns\n",
    "from warnings import filterwarnings\n",
    "filterwarnings('ignore')\n",
    "from math import factorial\n",
    "from scipy import stats\n",
    "from scipy.stats import randint\n",
    "from scipy .stats import skewnorm\n",
    "import random\n",
    "from statsmodels.stats import weightstats as stests\n",
    "from scipy.stats import shapiro\n",
    "from statsmodels.stats import power\n",
    "import statsmodels.api as sm\n",
    "from statsmodels.formula.api import ols\n",
    "from statsmodels.stats.anova import anova_lm\n",
    "from scipy.stats import chi2_contingency\n",
    "from scipy.stats import chi2\n",
    "from scipy.stats import chisquare\n",
    "import statsmodels.stats.multicomp as mc\n",
    "import scikit_posthocs"
   ]
  },
  {
   "cell_type": "markdown",
   "id": "1fbbec81",
   "metadata": {},
   "source": [
    "# PART-A ( Concept Based)--25 points The following are the ages of 30 customers who ordered an EV scooter from Zen Automotives.ee.                                                                                                                                                                                                                                                                                                         42 44 62 35 20                                                                                                             30 56 20 23 41                                                                                                                  55 22 31 27 66                                                                                                              21 18 24 42 25                                                                                                                  32 50 31 26 36                                                                                                                  39 40 18 36 22                                                                                                                                                                                                                                                         Use this data for answering questions 1-13.\n",
    "\n"
   ]
  },
  {
   "cell_type": "code",
   "execution_count": 2,
   "id": "94cd7ce6",
   "metadata": {},
   "outputs": [],
   "source": [
    "age=[42,44,62,35,20,30,56,20,23,41,55,22,31,27,66,21,18,24,42,25,32,50,31,26,36,39,40,18,36,22]"
   ]
  },
  {
   "cell_type": "markdown",
   "id": "065cb554",
   "metadata": {},
   "source": [
    "# Q1. Compute the mean, median and the mode of the data\n"
   ]
  },
  {
   "cell_type": "code",
   "execution_count": 3,
   "id": "915365bb",
   "metadata": {},
   "outputs": [
    {
     "name": "stdout",
     "output_type": "stream",
     "text": [
      "Mean 34.46666666666667\n",
      "Median 31.5\n",
      "Mode [18]\n"
     ]
    }
   ],
   "source": [
    "mean=np.mean(age)\n",
    "median=np.median(age)\n",
    "mode=stats.mode(age)[0]\n",
    "print('Mean',mean)\n",
    "print('Median',median)\n",
    "print('Mode',mode)"
   ]
  },
  {
   "cell_type": "markdown",
   "id": "43c2b00b",
   "metadata": {},
   "source": [
    "# Q2. Compute the range , variance and standard deviation of customer ages\n"
   ]
  },
  {
   "cell_type": "code",
   "execution_count": 4,
   "id": "4a6f182c",
   "metadata": {},
   "outputs": [
    {
     "name": "stdout",
     "output_type": "stream",
     "text": [
      "Range 48\n",
      "Variance 171.4488888888889\n",
      "STD 13.093849277003645\n"
     ]
    }
   ],
   "source": [
    "hightest=66\n",
    "lowest=18\n",
    "range=hightest-lowest\n",
    "print('Range',range)\n",
    "variance=np.var(age)\n",
    "print('Variance',variance)\n",
    "std=np.std(age)\n",
    "print('STD',std)"
   ]
  },
  {
   "cell_type": "markdown",
   "id": "a79d7d4c",
   "metadata": {},
   "source": [
    "# Q3. Find the mean deviation for the data . The mean deviation is defined as below.\n"
   ]
  },
  {
   "cell_type": "code",
   "execution_count": 5,
   "id": "d8956de9",
   "metadata": {},
   "outputs": [
    {
     "name": "stdout",
     "output_type": "stream",
     "text": [
      "The mean deviation is  10.764444444444443\n"
     ]
    }
   ],
   "source": [
    "age=[42, 44, 62, 35, 20, 30, 56, 20, 23, 41, 55, 22, 31, 27, 66, 21, 18, 24, 42, 25, 32, 50, 31, 26, 36, 39, 40, 18, 36, 22]\n",
    "\n",
    "\n",
    "\n",
    "\n",
    "mean_val=np.mean(age)\n",
    "list_of_deviation=[abs(ele-mean_val) for ele in age]\n",
    "sum_of_deviation=sum(list_of_deviation)\n",
    "\n",
    "mean_deviation=sum_of_deviation/len(list_of_deviation)\n",
    "\n",
    "print(\"The mean deviation is \",mean_deviation)"
   ]
  },
  {
   "cell_type": "markdown",
   "id": "3c767f2c",
   "metadata": {},
   "source": [
    "# Q4. Calculate the Pearson coefficient of skewness and comment on the skewness of the data [A measure to determine the skewness of a distribution is called the Pearson coefficient of skewness. The formula is The value of the coefficient if skewness usually ranges from –3 to 3. When the distribution is symmetric, the coefficient is zero; when the distribution is positively skewed , the coefficient is positive, and when the distribution is negatively skewed the coefficient is negative.]"
   ]
  },
  {
   "cell_type": "code",
   "execution_count": 6,
   "id": "1412bdf4",
   "metadata": {
    "scrolled": false
   },
   "outputs": [
    {
     "name": "stdout",
     "output_type": "stream",
     "text": [
      "Pearson coefficient of skewness is 0.7553641682223312\n"
     ]
    }
   ],
   "source": [
    "skew_data=stats.skew(age)\n",
    "print('Pearson coefficient of skewness is',skew_data)"
   ]
  },
  {
   "cell_type": "raw",
   "id": "c9d21e53",
   "metadata": {},
   "source": [
    "The value of skewness coming as positive value indicates that the distribution is positively skewed or right skewed."
   ]
  },
  {
   "cell_type": "markdown",
   "id": "e7491cbc",
   "metadata": {},
   "source": [
    "# Q5. Count the number of data values that fall within two standard deviations of the mean. Compare this with the answer from Chebyshev’s Theorem.\n"
   ]
  },
  {
   "cell_type": "code",
   "execution_count": 7,
   "id": "e04471b3",
   "metadata": {},
   "outputs": [
    {
     "name": "stdout",
     "output_type": "stream",
     "text": [
      "lower limit and upper limit of 2 standard devaitions are  8.278968112659378 & 60.65436522067396\n"
     ]
    }
   ],
   "source": [
    "# first we have to find the range of two standard deviations\n",
    "\n",
    "mean_val=np.mean(age)\n",
    "std=np.std(age)\n",
    "\n",
    "\n",
    "lower_limit,upper_limit=mean_val-2*std,mean_val+2*std\n",
    "print(\"lower limit and upper limit of 2 standard devaitions are \",lower_limit,\"&\",upper_limit)"
   ]
  },
  {
   "cell_type": "code",
   "execution_count": 8,
   "id": "9bb89a90",
   "metadata": {},
   "outputs": [
    {
     "name": "stdout",
     "output_type": "stream",
     "text": [
      "The number of values falling between two standard deviaitons is  28\n"
     ]
    }
   ],
   "source": [
    "# now we will find the number of elements within that range using  for loop\n",
    "l=[]\n",
    "for element in age:\n",
    "    if element>=lower_limit and element<=upper_limit:\n",
    "        l.append(element)\n",
    "    else:\n",
    "        continue\n",
    "print(\"The number of values falling between two standard deviaitons is \",len(l))"
   ]
  },
  {
   "cell_type": "code",
   "execution_count": 9,
   "id": "7af48a54",
   "metadata": {},
   "outputs": [
    {
     "name": "stdout",
     "output_type": "stream",
     "text": [
      "percentage of values lying between 2 standard deviations is  93.33333333333333\n"
     ]
    }
   ],
   "source": [
    "# Chebyshev’s Theorem estimates the minimum proportion of observations that fall within a specified number of standard deviations\n",
    "# from the mean. This theorem applies to a broad range of probability distributions. \n",
    "# Chebyshev’s Theorem is also known as Chebyshev’s Inequality\n",
    "\n",
    "# As per this theorem it is estimated that 75% of the values lie within 2 standard deviations and conversely not \n",
    "# more than 25% will not fall outside 2 standard deviations\n",
    "\n",
    "percent_of_values_lying_in_2_standard_deviations=len(l)*100/len(age)\n",
    "print(\"percentage of values lying between 2 standard deviations is \",percent_of_values_lying_in_2_standard_deviations)\n",
    "\n",
    "# so in our case it is clearly evident that Chebyshevs theorem hold up "
   ]
  },
  {
   "cell_type": "markdown",
   "id": "d3cc54ec",
   "metadata": {},
   "source": [
    "# Q6. Find the three quartiles and the interquartile range (IQR)"
   ]
  },
  {
   "cell_type": "code",
   "execution_count": 10,
   "id": "a843a979",
   "metadata": {},
   "outputs": [
    {
     "name": "stdout",
     "output_type": "stream",
     "text": [
      "Quartiles-1 23.25\n",
      "Quartiles-2 31.5\n",
      "Quartiles-3 41.75\n",
      "Interquartile range 18.5\n"
     ]
    }
   ],
   "source": [
    "Q1_age = np.quantile(a = age, q = 0.25)\n",
    "Q2_age = np.quantile(a = age, q = 0.50)\n",
    "Q3_age = np.quantile(a = age, q = 0.75)\n",
    "IQR = Q3_age - Q1_age\n",
    "print('Quartiles-1',Q1_age)\n",
    "print('Quartiles-2',Q2_age)\n",
    "print('Quartiles-3',Q3_age)\n",
    "print('Interquartile range',IQR)"
   ]
  },
  {
   "cell_type": "markdown",
   "id": "07591c58",
   "metadata": {},
   "source": [
    "# Q7. Are there any outliers in the data set ?\n"
   ]
  },
  {
   "cell_type": "code",
   "execution_count": 11,
   "id": "03f5d3fd",
   "metadata": {
    "scrolled": true
   },
   "outputs": [
    {
     "name": "stdout",
     "output_type": "stream",
     "text": [
      "iqr 18.5\n"
     ]
    }
   ],
   "source": [
    "sorted(age)\n",
    "q1,q3=np.percentile(age,[25,75])\n",
    "iqr=q3-q1\n",
    "print('iqr',iqr)\n"
   ]
  },
  {
   "cell_type": "code",
   "execution_count": 12,
   "id": "af2f0bd7",
   "metadata": {
    "scrolled": true
   },
   "outputs": [
    {
     "name": "stdout",
     "output_type": "stream",
     "text": [
      "lowerbound -4.5\n",
      "upperbound 69.5\n"
     ]
    }
   ],
   "source": [
    "# find lower and upper bound\n",
    "lower_bound=q1-(1.5*iqr)\n",
    "upper_bound=q3+(1.5*iqr)\n",
    "print('lowerbound',lower_bound)\n",
    "print('upperbound',upper_bound)\n"
   ]
  },
  {
   "cell_type": "raw",
   "id": "fc09229b",
   "metadata": {},
   "source": [
    "So, anything outside of -4.5  and 69.5 is outlier.hence we dont have any outliers."
   ]
  },
  {
   "cell_type": "markdown",
   "id": "501946cf",
   "metadata": {},
   "source": [
    "# Q8. Draw a boxplot of the dataset to confirm .\n"
   ]
  },
  {
   "cell_type": "code",
   "execution_count": 13,
   "id": "2491cedf",
   "metadata": {
    "scrolled": true
   },
   "outputs": [
    {
     "data": {
      "text/plain": [
       "<AxesSubplot:>"
      ]
     },
     "execution_count": 13,
     "metadata": {},
     "output_type": "execute_result"
    },
    {
     "data": {
      "image/png": "[encoded data removed]",
      "text/plain": [
       "<Figure size 432x288 with 1 Axes>"
      ]
     },
     "metadata": {
      "needs_background": "light"
     },
     "output_type": "display_data"
    }
   ],
   "source": [
    "sns.boxplot(age)"
   ]
  },
  {
   "cell_type": "markdown",
   "id": "a0ff75fe",
   "metadata": {},
   "source": [
    "so,from this box plot we can see there is no outliers are present ."
   ]
  },
  {
   "cell_type": "markdown",
   "id": "795dd921",
   "metadata": {},
   "source": [
    "# Q9. Find the percentile rank of the datapoint 50.\n"
   ]
  },
  {
   "cell_type": "code",
   "execution_count": 3,
   "id": "cdc4fe44",
   "metadata": {
    "scrolled": true
   },
   "outputs": [
    {
     "data": {
      "text/html": [
       "<div>\n",
       "<style scoped>\n",
       "    .dataframe tbody tr th:only-of-type {\n",
       "        vertical-align: middle;\n",
       "    }\n",
       "\n",
       "    .dataframe tbody tr th {\n",
       "        vertical-align: top;\n",
       "    }\n",
       "\n",
       "    .dataframe thead th {\n",
       "        text-align: right;\n",
       "    }\n",
       "</style>\n",
       "<table border=\"1\" class=\"dataframe\">\n",
       "  <thead>\n",
       "    <tr style=\"text-align: right;\">\n",
       "      <th></th>\n",
       "      <th>0</th>\n",
       "      <th>perecentile_rank</th>\n",
       "    </tr>\n",
       "  </thead>\n",
       "  <tbody>\n",
       "    <tr>\n",
       "      <th>0</th>\n",
       "      <td>42</td>\n",
       "      <td>0.783333</td>\n",
       "    </tr>\n",
       "    <tr>\n",
       "      <th>1</th>\n",
       "      <td>44</td>\n",
       "      <td>0.833333</td>\n",
       "    </tr>\n",
       "    <tr>\n",
       "      <th>2</th>\n",
       "      <td>62</td>\n",
       "      <td>0.966667</td>\n",
       "    </tr>\n",
       "    <tr>\n",
       "      <th>3</th>\n",
       "      <td>35</td>\n",
       "      <td>0.566667</td>\n",
       "    </tr>\n",
       "    <tr>\n",
       "      <th>4</th>\n",
       "      <td>20</td>\n",
       "      <td>0.116667</td>\n",
       "    </tr>\n",
       "  </tbody>\n",
       "</table>\n",
       "</div>"
      ],
      "text/plain": [
       "    0  perecentile_rank\n",
       "0  42          0.783333\n",
       "1  44          0.833333\n",
       "2  62          0.966667\n",
       "3  35          0.566667\n",
       "4  20          0.116667"
      ]
     },
     "execution_count": 3,
     "metadata": {},
     "output_type": "execute_result"
    }
   ],
   "source": [
    "\n",
    "data=pd.DataFrame(age)\n",
    "\n",
    "data[\"perecentile_rank\"]=data.rank(pct=True)\n",
    "data.head()"
   ]
  },
  {
   "cell_type": "markdown",
   "id": "2fd973d4",
   "metadata": {},
   "source": [
    "From the above table we can understand that the 50 datapoint has a percentile of 86.67"
   ]
  },
  {
   "cell_type": "markdown",
   "id": "c78c6cc3",
   "metadata": {},
   "source": [
    "# Q10. What is the probability that a person ordering an EV scooter is above 50 years old?"
   ]
  },
  {
   "cell_type": "code",
   "execution_count": 15,
   "id": "c18eb246",
   "metadata": {},
   "outputs": [
    {
     "name": "stdout",
     "output_type": "stream",
     "text": [
      "shapiro test for the data  ShapiroResult(statistic=0.9230570793151855, pvalue=0.03221774846315384)\n",
      "z1 =  1.1863076322876331\n",
      "probability that a person ordering an EV scooter is above 50 years old  0.11775041682142096\n"
     ]
    }
   ],
   "source": [
    "# doing the shapiro test to check the normality of the distribution\n",
    "# assuming a confidence interval of 99%\n",
    "\n",
    "age=[42,44,62,35,20,30,56,20,23,41,55,22,31,27,66,21,18,24,42,25,32,50,31,26,36,39,40,18,36,22]\n",
    "print(\"shapiro test for the data \",shapiro(x=age))\n",
    "\n",
    "# since the p-value is greater than 0.01 we consider it as normal\n",
    "\n",
    "# defining the normal random variable\n",
    "#standardization\n",
    "mean=np.mean(age)\n",
    "std=np.std(age)\n",
    "\n",
    "# transforming to standard\n",
    "x1=50\n",
    "\n",
    "z1=(x1-mean)/std\n",
    "print(\"z1 = \",z1)\n",
    "\n",
    "\n",
    "prob_above_50=stats.norm.sf(x=z1)\n",
    "print(\"probability that a person ordering an EV scooter is above 50 years old \",prob_above_50)"
   ]
  },
  {
   "cell_type": "markdown",
   "id": "902487b3",
   "metadata": {},
   "source": [
    "The probability in percentage that the person who buys a EV scooter is above 50 years old is 11.77%"
   ]
  },
  {
   "cell_type": "markdown",
   "id": "499c4b74",
   "metadata": {},
   "source": [
    "# Q11. Create a frequency distribution for the data and visualize it appropriately\n"
   ]
  },
  {
   "cell_type": "code",
   "execution_count": 16,
   "id": "389edae7",
   "metadata": {},
   "outputs": [
    {
     "data": {
      "text/plain": [
       "<AxesSubplot:ylabel='Count'>"
      ]
     },
     "execution_count": 16,
     "metadata": {},
     "output_type": "execute_result"
    },
    {
     "data": {
      "image/png": "[encoded data removed]",
      "text/plain": [
       "<Figure size 432x288 with 1 Axes>"
      ]
     },
     "metadata": {
      "needs_background": "light"
     },
     "output_type": "display_data"
    }
   ],
   "source": [
    "# For frequency distribution we are using a displot which  encompasses both histogram and the kernel distribution estimate\n",
    "\n",
    "sns.histplot(age)"
   ]
  },
  {
   "cell_type": "markdown",
   "id": "5ef7ac52",
   "metadata": {},
   "source": [
    "# Q12. Create a probability distribution of the data and visualize it appropriately.\n"
   ]
  },
  {
   "cell_type": "code",
   "execution_count": 17,
   "id": "97db7c59",
   "metadata": {},
   "outputs": [
    {
     "data": {
      "text/plain": [
       "<AxesSubplot:ylabel='Density'>"
      ]
     },
     "execution_count": 17,
     "metadata": {},
     "output_type": "execute_result"
    },
    {
     "data": {
      "image/png": "[encoded data removed]",
      "text/plain": [
       "<Figure size 432x288 with 1 Axes>"
      ]
     },
     "metadata": {
      "needs_background": "light"
     },
     "output_type": "display_data"
    }
   ],
   "source": [
    "sns.distplot(age,hist=False)"
   ]
  },
  {
   "cell_type": "markdown",
   "id": "4dc92066",
   "metadata": {},
   "source": [
    "# Q13. What is the shape of the distribution of this dataset? Create an appropriate graph to determine that. Take 100 random samples with replacement from this dataset of size 5 each. Create a sampling distribution of the mean age of customers. Compare with other sampling distributions of sample size 10, 15, 20, 25, 30. State your observations. Does it corroborate the Central Limit Theorem?\n"
   ]
  },
  {
   "cell_type": "code",
   "execution_count": 4,
   "id": "69f851d0",
   "metadata": {
    "scrolled": true
   },
   "outputs": [
    {
     "data": {
      "text/plain": [
       "<AxesSubplot:ylabel='Density'>"
      ]
     },
     "execution_count": 4,
     "metadata": {},
     "output_type": "execute_result"
    },
    {
     "data": {
      "image/png": "[encoded data removed]",
      "text/plain": [
       "<Figure size 432x288 with 1 Axes>"
      ]
     },
     "metadata": {
      "needs_background": "light"
     },
     "output_type": "display_data"
    }
   ],
   "source": [
    "sns.distplot(x=data)"
   ]
  },
  {
   "cell_type": "code",
   "execution_count": 5,
   "id": "6d490afc",
   "metadata": {},
   "outputs": [
    {
     "name": "stdout",
     "output_type": "stream",
     "text": [
      "The skewness of the data is  [0.75536417 0.00193158]\n",
      "The kurtosis of the data is  [-0.28472958 -1.20670944]\n"
     ]
    }
   ],
   "source": [
    "skew_data=stats.skew(data)\n",
    "kurtosis_data=stats.kurtosis(data)\n",
    "\n",
    "print(\"The skewness of the data is \",skew_data)\n",
    "print(\"The kurtosis of the data is \",kurtosis_data)\n",
    "\n",
    "\n",
    "#Skewness is a statistical term and it is a way to estimate or measure the shape of a distribution.  \n",
    "#Skewness > 0: Then more weight in the left tail of the distribution.\n",
    "\n",
    "#kurtosis a statistical term and an important characteristic of frequency distribution. \n",
    "#It determines whether a distribution is heavy-tailed in respect of the normal distribution. \n",
    "#It provides information about the shape of a frequency distribution. kurtosis for normal distribution is equal to 3.\n",
    "# For a distribution having kurtosis < 3: It is called playkurtic. in this case the distribution is platykurtic\n"
   ]
  },
  {
   "cell_type": "code",
   "execution_count": 6,
   "id": "a3c26a7d",
   "metadata": {},
   "outputs": [
    {
     "data": {
      "image/png": "[encoded data removed]",
      "text/plain": [
       "<Figure size 432x288 with 1 Axes>"
      ]
     },
     "metadata": {
      "needs_background": "light"
     },
     "output_type": "display_data"
    },
    {
     "name": "stdout",
     "output_type": "stream",
     "text": [
      "The mean of means is  34.854\n",
      "The variance of means is  37.019884\n"
     ]
    }
   ],
   "source": [
    "# 100 samples with sample size 5\n",
    "# create a sampling distribution from the above population with replacement\n",
    "# first we define the number of samples to be drawn \n",
    "data=[42,44,62,35,20,30,56,20,23,41,55,22,31,27,66,21,18,24,42,25,32,50,31,26,36,39,40,18,36,22]\n",
    "n_samples=100\n",
    "\n",
    "# create an empty list to store the means of each sample\n",
    "sample_means = []\n",
    "\n",
    "# create a for loop to get the sample means array\n",
    "for i in range(n_samples):\n",
    "    # generates a random sample of size 100 from the population array\n",
    "    sample = random.choices(data,k=5)\n",
    "        \n",
    "    # calculate the mean of the sample data\n",
    "    sample_mean = np.mean(sample)\n",
    "        \n",
    "    # append the mean to the list\n",
    "    sample_means.append(sample_mean) \n",
    "    \n",
    "# plot the distribution of the sample means \n",
    "sns.distplot(sample_means)\n",
    "\n",
    "# give the graph a title\n",
    "plt.title(\"Sampling Distribution\", fontsize=15)\n",
    "\n",
    "# display the graph\n",
    "plt.show()\n",
    "print(\"The mean of means is \",np.mean(sample_means))\n",
    "print(\"The variance of means is \",np.var(sample_means))"
   ]
  },
  {
   "cell_type": "code",
   "execution_count": 7,
   "id": "3e1eb7cc",
   "metadata": {},
   "outputs": [
    {
     "data": {
      "image/png": "[encoded data removed]",
      "text/plain": [
       "<Figure size 432x288 with 1 Axes>"
      ]
     },
     "metadata": {
      "needs_background": "light"
     },
     "output_type": "display_data"
    },
    {
     "name": "stdout",
     "output_type": "stream",
     "text": [
      "The mean of means is  35.141999999999996\n",
      "The variance of means is  17.909236\n"
     ]
    }
   ],
   "source": [
    "# 100 samples with sample size 10\n",
    "n_samples=100\n",
    "sample_means = []\n",
    "for i in range(n_samples):\n",
    "    sample = random.choices(data,k=10)\n",
    "    sample_mean = np.mean(sample)\n",
    "    sample_means.append(sample_mean) \n",
    "    \n",
    "sns.distplot(sample_means)\n",
    "plt.title(\"Sampling Distribution\", fontsize=15)\n",
    "plt.show()\n",
    "print(\"The mean of means is \",np.mean(sample_means))\n",
    "print(\"The variance of means is \",np.var(sample_means))"
   ]
  },
  {
   "cell_type": "code",
   "execution_count": 8,
   "id": "13ae4e05",
   "metadata": {},
   "outputs": [
    {
     "data": {
      "image/png": "[encoded data removed]",
      "text/plain": [
       "<Figure size 432x288 with 1 Axes>"
      ]
     },
     "metadata": {
      "needs_background": "light"
     },
     "output_type": "display_data"
    },
    {
     "name": "stdout",
     "output_type": "stream",
     "text": [
      "The mean of means is  34.01533333333333\n",
      "The variance of means is  10.350387111111111\n"
     ]
    }
   ],
   "source": [
    "# 100 samples with sample size 15\n",
    "n_samples=100\n",
    "sample_means = []\n",
    "for i in range(n_samples):\n",
    "    sample = random.choices(data,k=15)\n",
    "    sample_mean = np.mean(sample)\n",
    "    sample_means.append(sample_mean) \n",
    "    \n",
    "sns.distplot(sample_means)\n",
    "plt.title(\"Sampling Distribution\", fontsize=15)\n",
    "plt.show()\n",
    "print(\"The mean of means is \",np.mean(sample_means))\n",
    "print(\"The variance of means is \",np.var(sample_means))"
   ]
  },
  {
   "cell_type": "code",
   "execution_count": 9,
   "id": "0d9d2640",
   "metadata": {},
   "outputs": [
    {
     "data": {
      "image/png": "[encoded data removed]",
      "text/plain": [
       "<Figure size 432x288 with 1 Axes>"
      ]
     },
     "metadata": {
      "needs_background": "light"
     },
     "output_type": "display_data"
    },
    {
     "name": "stdout",
     "output_type": "stream",
     "text": [
      "The mean of means is  34.6855\n",
      "The variance of means is  8.036064750000001\n"
     ]
    }
   ],
   "source": [
    "# 100 samples with sample size 20\n",
    "n_samples=100\n",
    "sample_means = []\n",
    "for i in range(n_samples):\n",
    "    sample = random.choices(data,k=20)\n",
    "    sample_mean = np.mean(sample)\n",
    "    sample_means.append(sample_mean) \n",
    "    \n",
    "sns.distplot(sample_means)\n",
    "plt.title(\"Sampling Distribution\", fontsize=15)\n",
    "plt.show()\n",
    "print(\"The mean of means is \",np.mean(sample_means))\n",
    "print(\"The variance of means is \",np.var(sample_means))"
   ]
  },
  {
   "cell_type": "code",
   "execution_count": 10,
   "id": "971c7190",
   "metadata": {},
   "outputs": [
    {
     "data": {
      "image/png": "[encoded data removed]",
      "text/plain": [
       "<Figure size 432x288 with 1 Axes>"
      ]
     },
     "metadata": {
      "needs_background": "light"
     },
     "output_type": "display_data"
    },
    {
     "name": "stdout",
     "output_type": "stream",
     "text": [
      "The mean of means is  34.412\n",
      "The variance of means is  7.5748\n"
     ]
    }
   ],
   "source": [
    "# 100 samples with sample size 25\n",
    "n_samples=100\n",
    "sample_means = []\n",
    "for i in range(n_samples):\n",
    "    sample = random.choices(data,k=25)\n",
    "    sample_mean = np.mean(sample)\n",
    "    sample_means.append(sample_mean) \n",
    "    \n",
    "sns.distplot(sample_means)\n",
    "plt.title(\"Sampling Distribution\", fontsize=15)\n",
    "plt.show()\n",
    "print(\"The mean of means is \",np.mean(sample_means))\n",
    "print(\"The variance of means is \",np.var(sample_means))"
   ]
  },
  {
   "cell_type": "code",
   "execution_count": 11,
   "id": "e2e01a1a",
   "metadata": {},
   "outputs": [
    {
     "data": {
      "image/png": "[encoded data removed]",
      "text/plain": [
       "<Figure size 432x288 with 1 Axes>"
      ]
     },
     "metadata": {
      "needs_background": "light"
     },
     "output_type": "display_data"
    },
    {
     "name": "stdout",
     "output_type": "stream",
     "text": [
      "The mean of means is  34.940333333333335\n",
      "The variance of means is  4.623562111111112\n"
     ]
    }
   ],
   "source": [
    "# 100 samples with sample size 30\n",
    "n_samples=100\n",
    "sample_means = []\n",
    "for i in range(n_samples):\n",
    "    sample = random.choices(data,k=30)\n",
    "    sample_mean = np.mean(sample)\n",
    "    sample_means.append(sample_mean) \n",
    "    \n",
    "sns.distplot(sample_means)\n",
    "plt.title(\"Sampling Distribution\", fontsize=15)\n",
    "plt.show()\n",
    "print(\"The mean of means is \",np.mean(sample_means))\n",
    "print(\"The variance of means is \",np.var(sample_means))"
   ]
  },
  {
   "cell_type": "markdown",
   "id": "6911e384",
   "metadata": {},
   "source": [
    "Put another way, Central Limit Theorem is a statistical premise that, given a sufficiently large sample size from a population with a finite level of variance, the mean of all sampled variables from the same population will be approximately equal to the mean of the whole population. Furthermore, these samples approximate a normal distribution, with their variances being approximately equal to the variance of the population as the sample size gets larger, according to the law of large numbers."
   ]
  },
  {
   "cell_type": "markdown",
   "id": "c6f5df9c",
   "metadata": {},
   "source": [
    " as the sample size increased the mean of the sample means list approximated to the actual poulation mean itself\n",
    " the distribution tend to become normal too"
   ]
  },
  {
   "cell_type": "code",
   "execution_count": null,
   "id": "ae005745",
   "metadata": {},
   "outputs": [],
   "source": []
  },
  {
   "cell_type": "markdown",
   "id": "064bab42",
   "metadata": {},
   "source": [
    "# Q14. Treat this dataset as a binomial distribution where p is the probability that a person ordering an EV is above 50 years age. What is the probability that out of a random sample of 10 buyers exactly 6 are above 50 years of age?"
   ]
  },
  {
   "cell_type": "code",
   "execution_count": 21,
   "id": "3c741af6",
   "metadata": {},
   "outputs": [
    {
     "name": "stdout",
     "output_type": "stream",
     "text": [
      "The probability that exactly 6 are above 50 years of age 0.00033833208778250896\n"
     ]
    }
   ],
   "source": [
    "n=10\n",
    "p=0.1177 #(as per Question 10)\n",
    "k=6\n",
    "\n",
    "prob=stats.binom.pmf(k=6,n=10,p=0.1177)\n",
    "print('The probability that exactly 6 are above 50 years of age', prob)"
   ]
  },
  {
   "cell_type": "markdown",
   "id": "c7f9997c",
   "metadata": {},
   "source": [
    "# Q15. A study claims that 10% of all customers for an EV scooter are above 50 years of age. Using the Normal approximation of a Binomial distribution, find the probability that in a random sample of 300 prospective customers exactly 25 will be above 50 years of age. [ Note that the normal distribution can be used to approximate a binomial distribution if np>=5 and nq>=5 with the following correction for continuity P(X=z) = P(z-0.5 < X < z+0.5 ) ]\n"
   ]
  },
  {
   "cell_type": "code",
   "execution_count": 22,
   "id": "ba1ad9f1",
   "metadata": {},
   "outputs": [
    {
     "name": "stdout",
     "output_type": "stream",
     "text": [
      "The probability that in a random sample of 300 prospective customers exactly 25 will be above 50 years of age is  0.051\n"
     ]
    }
   ],
   "source": [
    "p=0.1\n",
    "n=300\n",
    "k=25\n",
    "\n",
    "prob=stats.binom.pmf(k=25,n=300,p=0.1)\n",
    "print(\"The probability that in a random sample of 300 prospective customers exactly 25 will be above 50 years of age is \",round(prob,3))"
   ]
  },
  {
   "cell_type": "code",
   "execution_count": null,
   "id": "56b8cbe2",
   "metadata": {},
   "outputs": [],
   "source": []
  },
  {
   "cell_type": "markdown",
   "id": "33761e01",
   "metadata": {},
   "source": [
    "# Q16. Compute a 95% Confidence Interval for the true mean age of the population of EV scooter buyers for the dataset using appropriate distribution.( State reasons as to why did you use a z or t distribution)\n"
   ]
  },
  {
   "cell_type": "code",
   "execution_count": 23,
   "id": "a735b184",
   "metadata": {},
   "outputs": [
    {
     "name": "stdout",
     "output_type": "stream",
     "text": [
      "The confidence interval is \n"
     ]
    },
    {
     "data": {
      "text/plain": [
       "(8.803193664743699, 60.130139668589635)"
      ]
     },
     "execution_count": 23,
     "metadata": {},
     "output_type": "execute_result"
    }
   ],
   "source": [
    "mean_value=np.mean(age)\n",
    "std=np.std(age)\n",
    "confidence_interval=stats.norm.interval(0.95,loc=mean_value,scale=std)\n",
    "print(\"The confidence interval is \")\n",
    "confidence_interval\n",
    "\n",
    "\n",
    "# we are using a z distribution because t distribution is used when the no of samples is less than 30 as a thumb rule"
   ]
  },
  {
   "cell_type": "markdown",
   "id": "eeb01a61",
   "metadata": {},
   "source": [
    "# Q17. A data scientist wants to estimate with 95% confidence the proportion of people who own an EV in the population. A recent study showed that 20% of people interviewed had an EV. The data scientist wants to be accurate within 2% of the true proportion. Find the minimum sample size necessary.\n"
   ]
  },
  {
   "cell_type": "code",
   "execution_count": 24,
   "id": "90191579",
   "metadata": {},
   "outputs": [
    {
     "name": "stdout",
     "output_type": "stream",
     "text": [
      "0.4\n",
      "1.9599639845400545\n"
     ]
    },
    {
     "data": {
      "text/plain": [
       "38415"
      ]
     },
     "execution_count": 24,
     "metadata": {},
     "output_type": "execute_result"
    }
   ],
   "source": [
    "po=0.2\n",
    "s=np.sqrt(po*(1-po))\n",
    "print(s)\n",
    "zalphaby2=stats.norm.isf(q=0.025)\n",
    "print(zalphaby2)\n",
    "n=(zalphaby2*s/(0.02*po))**2\n",
    "round(n)\n"
   ]
  },
  {
   "cell_type": "markdown",
   "id": "93812107",
   "metadata": {},
   "source": [
    "# Q18. The same data scientist wants to estimate the proportion of executives who own an EV. She wants to be 90% confident and accurate within 5% of true proportion. Find the minimum sample size necessary.\n"
   ]
  },
  {
   "cell_type": "code",
   "execution_count": 25,
   "id": "fa21e2af",
   "metadata": {},
   "outputs": [
    {
     "name": "stdout",
     "output_type": "stream",
     "text": [
      "0.4\n",
      "1.6448536269514729\n"
     ]
    },
    {
     "data": {
      "text/plain": [
       "4329"
      ]
     },
     "execution_count": 25,
     "metadata": {},
     "output_type": "execute_result"
    }
   ],
   "source": [
    "po=0.2\n",
    "s=np.sqrt(po*(1-po))\n",
    "print(s)\n",
    "zalphaby2=stats.norm.isf(q=0.05)\n",
    "print(zalphaby2)\n",
    "n=(zalphaby2*s/(0.05*po))**2\n",
    "round(n)\n",
    "\n",
    "\n"
   ]
  },
  {
   "cell_type": "markdown",
   "id": "efbbbaec",
   "metadata": {},
   "source": [
    "# Q19. A researcher claims that currently 20% of the population are owning EVs. Test his claim with an alpha =0.05 if out of a random sample of 30 two-wheeler owners only 5 own an EV.\n"
   ]
  },
  {
   "cell_type": "code",
   "execution_count": 26,
   "id": "a8484b00",
   "metadata": {},
   "outputs": [
    {
     "name": "stdout",
     "output_type": "stream",
     "text": [
      "4.22036109965105 1.9599639845400545\n"
     ]
    }
   ],
   "source": [
    "po=0.55\n",
    "p=5/30\n",
    "n=30\n",
    "s=np.sqrt(po*(1-po)/n)\n",
    "zc=(po-p)/s\n",
    "zalphaby2=stats.norm.isf(q=0.025)\n",
    "print(zc,zalphaby2)"
   ]
  },
  {
   "cell_type": "markdown",
   "id": "47a46d6a",
   "metadata": {},
   "source": [
    "# Q20. Assume you are working for a Consumer Protection Agency that looks at complaints raised by customers for the transportation industry. Say you have been receiving complaints about the mileage of the latest EV launched by the Zen Automotives. Zen allows you to test randomly 40 of its new EVs to test mileage. Zen claims that the new EVs get a mileage of 96 kmpl on the highway. Your results show a mean of 91.3 kmpl and a standard deviation of 14.4.\n",
    "\n"
   ]
  },
  {
   "cell_type": "markdown",
   "id": "c648aa0b",
   "metadata": {},
   "source": [
    "# a. Show why you support Zen’s claim using the P-value obtained.\n"
   ]
  },
  {
   "cell_type": "code",
   "execution_count": null,
   "id": "6b92a8b8",
   "metadata": {},
   "outputs": [],
   "source": []
  },
  {
   "cell_type": "code",
   "execution_count": null,
   "id": "dac52b72",
   "metadata": {},
   "outputs": [],
   "source": []
  },
  {
   "cell_type": "code",
   "execution_count": null,
   "id": "2d11d2bd",
   "metadata": {},
   "outputs": [],
   "source": []
  },
  {
   "cell_type": "markdown",
   "id": "3484575a",
   "metadata": {},
   "source": [
    "# b. After more complaints you decide to test the variability of the mileage on the highway. On questioning Zen’s quality control engineer , you find that they are claiming a standard deviation of 7.2. Test the claim about the standard deviation. [Hint :use the Chi-square test for variance/standard deviation]\n"
   ]
  },
  {
   "cell_type": "markdown",
   "id": "7fb8a31c",
   "metadata": {},
   "source": [
    "# c. Write a summary of results and the action that Zen must take to remedy the complaints.\n"
   ]
  },
  {
   "cell_type": "markdown",
   "id": "0c71ba37",
   "metadata": {},
   "source": [
    "# d. What is your position on performing the test for variability along with the test for means?"
   ]
  },
  {
   "cell_type": "markdown",
   "id": "bca42224",
   "metadata": {},
   "source": [
    "# Q21. Write a report comparing and contrasting Descriptive vs Inferential Statistics in about 200-500 words and how each helps to get more insight into the data at hand"
   ]
  },
  {
   "cell_type": "markdown",
   "id": "332fa139",
   "metadata": {},
   "source": [
    "Descriptive statistics:\n",
    "Descriptive statistics are used to describe the characteristics or features of a dataset. The term ‘descriptive statistics’ can be used to describe both individual quantitative observations (also known as ‘summary statistics’) as well as the overall process of obtaining insights from these data. We can use descriptive statistics to describe both an entire population or an individual sample. Because they are merely explanatory, descriptive statistics are not heavily concerned with the differences between the two types of data.\n",
    "\n",
    "Describe the features of populations and/or samples.\n",
    "Organize and present data in a purely factual way.\n",
    "Present final results visually, using tables, charts, or graphs.\n",
    "Draw conclusions based on known data.\n",
    "Use measures like central tendency, distribution, and variance.\n",
    "\n",
    "\n",
    "Inferential statistics:\n",
    "Inferential statistics focus on making generalizations about a larger population based on a representative sample of that population. Because inferential statistics focuses on making predictions (rather than stating facts) its results are usually in the form of a probability.\n",
    "\n",
    "Unsurprisingly, the accuracy of inferential statistics relies heavily on the sample data being both accurate and representative of the larger population. To do this involves obtaining a random sample. If you’ve ever read news coverage of scientific studies, you’ll have come across the term before. The implication is always that random sampling means better results. On the flipside, results that are based on biased or non-random samples are usually thrown out. Random sampling is very important for carrying out inferential techniques, but it is not always straightforward!\n",
    "\n",
    "Use samples to make generalizations about larger populations.\n",
    "Help us to make estimates and predict future outcomes.\n",
    "Present final results in the form of probabilities.\n",
    "Draw conclusions that go beyond the available data.\n",
    "Use techniques like hypothesis testing, confidence intervals, and regression and correlation analysis."
   ]
  },
  {
   "cell_type": "markdown",
   "id": "f05ff51a",
   "metadata": {},
   "source": [
    "# PART-B ( Dataset based)--25 points"
   ]
  },
  {
   "cell_type": "markdown",
   "id": "497df260",
   "metadata": {},
   "source": [
    "• DOMAIN: Sports\n",
    "• CONTEXT: Company X manages the men's top professional basketball division\n",
    "of the American league system.The dataset contains information on all the teams\n",
    "that have participated in all the past tournaments. It has data about how many\n",
    "baskets each team scored, conceded, how many times they came within the first\n",
    "2 positions,how many tournaments they have qualified, their best position in the\n",
    "past, etc.\n",
    "• DATA DESCRIPTION: Basketball.csv - The data set contains information on all\n",
    "the teams so far participated in all the past tournaments.\n",
    "\n",
    "• ATTRIBUTE INFORMATION:\n",
    "1. Team: Team’s name\n",
    "2. Tournament: Number of played tournaments.\n",
    "3. Score: Team’s score so far.\n",
    "4. PlayedGames: Games played by the team so far.\n",
    "5. WonGames: Games won by the team so far.\n",
    "6. DrawnGames: Games drawn by the team so far.\n",
    "7. LostGames: Games lost by the team so far.\n",
    "8. BasketScored: Basket scored by the team so far.\n",
    "9. BasketGiven: Basket scored against the team so far.\n",
    "10. TournamentChampion: How many times the team was a champion of the\n",
    "tournaments so far.\n",
    "11. Runner-up: How many times the team was a runners-up of the tournaments\n",
    "so far.\n",
    "12. TeamLaunch: Year the team was launched on professional basketball.\n",
    "13. HighestPositionHeld: Highest position held by the team amongst all the\n",
    "tournaments played.\n",
    "\n",
    "\n",
    "• PROJECT OBJECTIVE: Company’s management wants to invest on proposals\n",
    "on managing some of the best teams in the league. The analytics department\n",
    "has been assigned with a task of creating a report on the performance shown by\n",
    "6\n",
    "the teams. Some of the older teams are already in contract with competitors.\n",
    "Hence Company X wants to understand which teams they can approach which\n",
    "will be a deal win for them.\n"
   ]
  },
  {
   "cell_type": "markdown",
   "id": "a2506a8a",
   "metadata": {},
   "source": [
    "# 1. Read the data set, clean the data and prepare a final dataset to be used  for analysis.[ 5 points]\n"
   ]
  },
  {
   "cell_type": "code",
   "execution_count": 27,
   "id": "663dfa57",
   "metadata": {},
   "outputs": [
    {
     "data": {
      "text/html": [
       "<div>\n",
       "<style scoped>\n",
       "    .dataframe tbody tr th:only-of-type {\n",
       "        vertical-align: middle;\n",
       "    }\n",
       "\n",
       "    .dataframe tbody tr th {\n",
       "        vertical-align: top;\n",
       "    }\n",
       "\n",
       "    .dataframe thead th {\n",
       "        text-align: right;\n",
       "    }\n",
       "</style>\n",
       "<table border=\"1\" class=\"dataframe\">\n",
       "  <thead>\n",
       "    <tr style=\"text-align: right;\">\n",
       "      <th></th>\n",
       "      <th>Team</th>\n",
       "      <th>Tournament</th>\n",
       "      <th>Score</th>\n",
       "      <th>PlayedGames</th>\n",
       "      <th>WonGames</th>\n",
       "      <th>DrawnGames</th>\n",
       "      <th>LostGames</th>\n",
       "      <th>BasketScored</th>\n",
       "      <th>BasketGiven</th>\n",
       "      <th>TournamentChampion</th>\n",
       "      <th>Runner-up</th>\n",
       "      <th>TeamLaunch</th>\n",
       "      <th>HighestPositionHeld</th>\n",
       "    </tr>\n",
       "  </thead>\n",
       "  <tbody>\n",
       "    <tr>\n",
       "      <th>0</th>\n",
       "      <td>Team 1</td>\n",
       "      <td>86</td>\n",
       "      <td>4385</td>\n",
       "      <td>2762</td>\n",
       "      <td>1647</td>\n",
       "      <td>552</td>\n",
       "      <td>563</td>\n",
       "      <td>5947</td>\n",
       "      <td>3140</td>\n",
       "      <td>33</td>\n",
       "      <td>23</td>\n",
       "      <td>1929</td>\n",
       "      <td>1</td>\n",
       "    </tr>\n",
       "    <tr>\n",
       "      <th>1</th>\n",
       "      <td>Team 2</td>\n",
       "      <td>86</td>\n",
       "      <td>4262</td>\n",
       "      <td>2762</td>\n",
       "      <td>1581</td>\n",
       "      <td>573</td>\n",
       "      <td>608</td>\n",
       "      <td>5900</td>\n",
       "      <td>3114</td>\n",
       "      <td>25</td>\n",
       "      <td>25</td>\n",
       "      <td>1929</td>\n",
       "      <td>1</td>\n",
       "    </tr>\n",
       "    <tr>\n",
       "      <th>2</th>\n",
       "      <td>Team 3</td>\n",
       "      <td>80</td>\n",
       "      <td>3442</td>\n",
       "      <td>2614</td>\n",
       "      <td>1241</td>\n",
       "      <td>598</td>\n",
       "      <td>775</td>\n",
       "      <td>4534</td>\n",
       "      <td>3309</td>\n",
       "      <td>10</td>\n",
       "      <td>8</td>\n",
       "      <td>1929</td>\n",
       "      <td>1</td>\n",
       "    </tr>\n",
       "    <tr>\n",
       "      <th>3</th>\n",
       "      <td>Team 4</td>\n",
       "      <td>82</td>\n",
       "      <td>3386</td>\n",
       "      <td>2664</td>\n",
       "      <td>1187</td>\n",
       "      <td>616</td>\n",
       "      <td>861</td>\n",
       "      <td>4398</td>\n",
       "      <td>3469</td>\n",
       "      <td>6</td>\n",
       "      <td>6</td>\n",
       "      <td>1931to32</td>\n",
       "      <td>1</td>\n",
       "    </tr>\n",
       "    <tr>\n",
       "      <th>4</th>\n",
       "      <td>Team 5</td>\n",
       "      <td>86</td>\n",
       "      <td>3368</td>\n",
       "      <td>2762</td>\n",
       "      <td>1209</td>\n",
       "      <td>633</td>\n",
       "      <td>920</td>\n",
       "      <td>4631</td>\n",
       "      <td>3700</td>\n",
       "      <td>8</td>\n",
       "      <td>7</td>\n",
       "      <td>1929</td>\n",
       "      <td>1</td>\n",
       "    </tr>\n",
       "    <tr>\n",
       "      <th>...</th>\n",
       "      <td>...</td>\n",
       "      <td>...</td>\n",
       "      <td>...</td>\n",
       "      <td>...</td>\n",
       "      <td>...</td>\n",
       "      <td>...</td>\n",
       "      <td>...</td>\n",
       "      <td>...</td>\n",
       "      <td>...</td>\n",
       "      <td>...</td>\n",
       "      <td>...</td>\n",
       "      <td>...</td>\n",
       "      <td>...</td>\n",
       "    </tr>\n",
       "    <tr>\n",
       "      <th>56</th>\n",
       "      <td>Team 57</td>\n",
       "      <td>1</td>\n",
       "      <td>34</td>\n",
       "      <td>38</td>\n",
       "      <td>8</td>\n",
       "      <td>10</td>\n",
       "      <td>20</td>\n",
       "      <td>38</td>\n",
       "      <td>66</td>\n",
       "      <td>-</td>\n",
       "      <td>-</td>\n",
       "      <td>2009-10</td>\n",
       "      <td>20</td>\n",
       "    </tr>\n",
       "    <tr>\n",
       "      <th>57</th>\n",
       "      <td>Team 58</td>\n",
       "      <td>1</td>\n",
       "      <td>22</td>\n",
       "      <td>30</td>\n",
       "      <td>7</td>\n",
       "      <td>8</td>\n",
       "      <td>15</td>\n",
       "      <td>37</td>\n",
       "      <td>57</td>\n",
       "      <td>-</td>\n",
       "      <td>-</td>\n",
       "      <td>1956-57</td>\n",
       "      <td>16</td>\n",
       "    </tr>\n",
       "    <tr>\n",
       "      <th>58</th>\n",
       "      <td>Team 59</td>\n",
       "      <td>1</td>\n",
       "      <td>19</td>\n",
       "      <td>30</td>\n",
       "      <td>7</td>\n",
       "      <td>5</td>\n",
       "      <td>18</td>\n",
       "      <td>51</td>\n",
       "      <td>85</td>\n",
       "      <td>-</td>\n",
       "      <td>-</td>\n",
       "      <td>1951~52</td>\n",
       "      <td>16</td>\n",
       "    </tr>\n",
       "    <tr>\n",
       "      <th>59</th>\n",
       "      <td>Team 60</td>\n",
       "      <td>1</td>\n",
       "      <td>14</td>\n",
       "      <td>30</td>\n",
       "      <td>5</td>\n",
       "      <td>4</td>\n",
       "      <td>21</td>\n",
       "      <td>34</td>\n",
       "      <td>65</td>\n",
       "      <td>-</td>\n",
       "      <td>-</td>\n",
       "      <td>1955-56</td>\n",
       "      <td>15</td>\n",
       "    </tr>\n",
       "    <tr>\n",
       "      <th>60</th>\n",
       "      <td>Team 61</td>\n",
       "      <td>1</td>\n",
       "      <td>-</td>\n",
       "      <td>-</td>\n",
       "      <td>-</td>\n",
       "      <td>-</td>\n",
       "      <td>-</td>\n",
       "      <td>-</td>\n",
       "      <td>-</td>\n",
       "      <td>-</td>\n",
       "      <td>-</td>\n",
       "      <td>2017~18</td>\n",
       "      <td>9</td>\n",
       "    </tr>\n",
       "  </tbody>\n",
       "</table>\n",
       "<p>61 rows × 13 columns</p>\n",
       "</div>"
      ],
      "text/plain": [
       "       Team  Tournament Score PlayedGames WonGames DrawnGames LostGames  \\\n",
       "0    Team 1          86  4385        2762     1647        552       563   \n",
       "1    Team 2          86  4262        2762     1581        573       608   \n",
       "2    Team 3          80  3442        2614     1241        598       775   \n",
       "3    Team 4          82  3386        2664     1187        616       861   \n",
       "4    Team 5          86  3368        2762     1209        633       920   \n",
       "..      ...         ...   ...         ...      ...        ...       ...   \n",
       "56  Team 57           1    34          38        8         10        20   \n",
       "57  Team 58           1    22          30        7          8        15   \n",
       "58  Team 59           1    19          30        7          5        18   \n",
       "59  Team 60           1    14          30        5          4        21   \n",
       "60  Team 61           1     -           -        -          -         -   \n",
       "\n",
       "   BasketScored BasketGiven TournamentChampion Runner-up TeamLaunch  \\\n",
       "0          5947        3140                 33        23       1929   \n",
       "1          5900        3114                 25        25       1929   \n",
       "2          4534        3309                 10         8       1929   \n",
       "3          4398        3469                  6         6   1931to32   \n",
       "4          4631        3700                  8         7       1929   \n",
       "..          ...         ...                ...       ...        ...   \n",
       "56           38          66                  -         -    2009-10   \n",
       "57           37          57                  -         -    1956-57   \n",
       "58           51          85                  -         -    1951~52   \n",
       "59           34          65                  -         -    1955-56   \n",
       "60            -           -                  -         -    2017~18   \n",
       "\n",
       "    HighestPositionHeld  \n",
       "0                     1  \n",
       "1                     1  \n",
       "2                     1  \n",
       "3                     1  \n",
       "4                     1  \n",
       "..                  ...  \n",
       "56                   20  \n",
       "57                   16  \n",
       "58                   16  \n",
       "59                   15  \n",
       "60                    9  \n",
       "\n",
       "[61 rows x 13 columns]"
      ]
     },
     "execution_count": 27,
     "metadata": {},
     "output_type": "execute_result"
    }
   ],
   "source": [
    "df=pd.read_csv('Basketball.csv')\n",
    "df"
   ]
  },
  {
   "cell_type": "code",
   "execution_count": 28,
   "id": "3f8abced",
   "metadata": {
    "scrolled": true
   },
   "outputs": [
    {
     "name": "stdout",
     "output_type": "stream",
     "text": [
      "<class 'pandas.core.frame.DataFrame'>\n",
      "RangeIndex: 61 entries, 0 to 60\n",
      "Data columns (total 13 columns):\n",
      " #   Column               Non-Null Count  Dtype \n",
      "---  ------               --------------  ----- \n",
      " 0   Team                 61 non-null     object\n",
      " 1   Tournament           61 non-null     int64 \n",
      " 2   Score                61 non-null     object\n",
      " 3   PlayedGames          61 non-null     object\n",
      " 4   WonGames             61 non-null     object\n",
      " 5   DrawnGames           61 non-null     object\n",
      " 6   LostGames            61 non-null     object\n",
      " 7   BasketScored         61 non-null     object\n",
      " 8   BasketGiven          61 non-null     object\n",
      " 9   TournamentChampion   61 non-null     object\n",
      " 10  Runner-up            61 non-null     object\n",
      " 11  TeamLaunch           61 non-null     object\n",
      " 12  HighestPositionHeld  61 non-null     int64 \n",
      "dtypes: int64(2), object(11)\n",
      "memory usage: 6.3+ KB\n"
     ]
    }
   ],
   "source": [
    "#the number of rows and no. of cols & types of variables\n",
    "df.info()"
   ]
  },
  {
   "cell_type": "markdown",
   "id": "94e37116",
   "metadata": {},
   "source": [
    "#This shows that except for tournament and hihest position held all other columns are of object type \n",
    "#but from seeing the data we can understand that all are numerical values and can be converted into numbers"
   ]
  },
  {
   "cell_type": "markdown",
   "id": "c2e3226b",
   "metadata": {},
   "source": [
    "Converting team name column into numerical\n",
    "We can identify teams names are given as \"team 1\",\"team 2\"...etc.\n",
    "The \"team\" can be removed and only represented using numbers\n"
   ]
  },
  {
   "cell_type": "code",
   "execution_count": 29,
   "id": "d72a7370",
   "metadata": {},
   "outputs": [
    {
     "data": {
      "text/html": [
       "<div>\n",
       "<style scoped>\n",
       "    .dataframe tbody tr th:only-of-type {\n",
       "        vertical-align: middle;\n",
       "    }\n",
       "\n",
       "    .dataframe tbody tr th {\n",
       "        vertical-align: top;\n",
       "    }\n",
       "\n",
       "    .dataframe thead th {\n",
       "        text-align: right;\n",
       "    }\n",
       "</style>\n",
       "<table border=\"1\" class=\"dataframe\">\n",
       "  <thead>\n",
       "    <tr style=\"text-align: right;\">\n",
       "      <th></th>\n",
       "      <th>Team</th>\n",
       "      <th>Tournament</th>\n",
       "      <th>Score</th>\n",
       "      <th>PlayedGames</th>\n",
       "      <th>WonGames</th>\n",
       "      <th>DrawnGames</th>\n",
       "      <th>LostGames</th>\n",
       "      <th>BasketScored</th>\n",
       "      <th>BasketGiven</th>\n",
       "      <th>TournamentChampion</th>\n",
       "      <th>Runner-up</th>\n",
       "      <th>TeamLaunch</th>\n",
       "      <th>HighestPositionHeld</th>\n",
       "    </tr>\n",
       "  </thead>\n",
       "  <tbody>\n",
       "    <tr>\n",
       "      <th>0</th>\n",
       "      <td>1</td>\n",
       "      <td>86</td>\n",
       "      <td>4385</td>\n",
       "      <td>2762</td>\n",
       "      <td>1647</td>\n",
       "      <td>552</td>\n",
       "      <td>563</td>\n",
       "      <td>5947</td>\n",
       "      <td>3140</td>\n",
       "      <td>33</td>\n",
       "      <td>23</td>\n",
       "      <td>1929</td>\n",
       "      <td>1</td>\n",
       "    </tr>\n",
       "    <tr>\n",
       "      <th>1</th>\n",
       "      <td>2</td>\n",
       "      <td>86</td>\n",
       "      <td>4262</td>\n",
       "      <td>2762</td>\n",
       "      <td>1581</td>\n",
       "      <td>573</td>\n",
       "      <td>608</td>\n",
       "      <td>5900</td>\n",
       "      <td>3114</td>\n",
       "      <td>25</td>\n",
       "      <td>25</td>\n",
       "      <td>1929</td>\n",
       "      <td>1</td>\n",
       "    </tr>\n",
       "    <tr>\n",
       "      <th>2</th>\n",
       "      <td>3</td>\n",
       "      <td>80</td>\n",
       "      <td>3442</td>\n",
       "      <td>2614</td>\n",
       "      <td>1241</td>\n",
       "      <td>598</td>\n",
       "      <td>775</td>\n",
       "      <td>4534</td>\n",
       "      <td>3309</td>\n",
       "      <td>10</td>\n",
       "      <td>8</td>\n",
       "      <td>1929</td>\n",
       "      <td>1</td>\n",
       "    </tr>\n",
       "    <tr>\n",
       "      <th>3</th>\n",
       "      <td>4</td>\n",
       "      <td>82</td>\n",
       "      <td>3386</td>\n",
       "      <td>2664</td>\n",
       "      <td>1187</td>\n",
       "      <td>616</td>\n",
       "      <td>861</td>\n",
       "      <td>4398</td>\n",
       "      <td>3469</td>\n",
       "      <td>6</td>\n",
       "      <td>6</td>\n",
       "      <td>1931to32</td>\n",
       "      <td>1</td>\n",
       "    </tr>\n",
       "    <tr>\n",
       "      <th>4</th>\n",
       "      <td>5</td>\n",
       "      <td>86</td>\n",
       "      <td>3368</td>\n",
       "      <td>2762</td>\n",
       "      <td>1209</td>\n",
       "      <td>633</td>\n",
       "      <td>920</td>\n",
       "      <td>4631</td>\n",
       "      <td>3700</td>\n",
       "      <td>8</td>\n",
       "      <td>7</td>\n",
       "      <td>1929</td>\n",
       "      <td>1</td>\n",
       "    </tr>\n",
       "  </tbody>\n",
       "</table>\n",
       "</div>"
      ],
      "text/plain": [
       "  Team  Tournament Score PlayedGames WonGames DrawnGames LostGames  \\\n",
       "0    1          86  4385        2762     1647        552       563   \n",
       "1    2          86  4262        2762     1581        573       608   \n",
       "2    3          80  3442        2614     1241        598       775   \n",
       "3    4          82  3386        2664     1187        616       861   \n",
       "4    5          86  3368        2762     1209        633       920   \n",
       "\n",
       "  BasketScored BasketGiven TournamentChampion Runner-up TeamLaunch  \\\n",
       "0         5947        3140                 33        23       1929   \n",
       "1         5900        3114                 25        25       1929   \n",
       "2         4534        3309                 10         8       1929   \n",
       "3         4398        3469                  6         6   1931to32   \n",
       "4         4631        3700                  8         7       1929   \n",
       "\n",
       "   HighestPositionHeld  \n",
       "0                    1  \n",
       "1                    1  \n",
       "2                    1  \n",
       "3                    1  \n",
       "4                    1  "
      ]
     },
     "execution_count": 29,
     "metadata": {},
     "output_type": "execute_result"
    }
   ],
   "source": [
    "df[\"Team\"]=df[\"Team\"].str.slice(5)\n",
    "df.head()"
   ]
  },
  {
   "cell_type": "code",
   "execution_count": 30,
   "id": "89db4d1d",
   "metadata": {},
   "outputs": [
    {
     "data": {
      "text/plain": [
       "Team                    int64\n",
       "Tournament              int64\n",
       "Score                  object\n",
       "PlayedGames            object\n",
       "WonGames               object\n",
       "DrawnGames             object\n",
       "LostGames              object\n",
       "BasketScored           object\n",
       "BasketGiven            object\n",
       "TournamentChampion     object\n",
       "Runner-up              object\n",
       "TeamLaunch             object\n",
       "HighestPositionHeld     int64\n",
       "dtype: object"
      ]
     },
     "execution_count": 30,
     "metadata": {},
     "output_type": "execute_result"
    }
   ],
   "source": [
    "df[\"Team\"]=df.Team.astype('int64')\n",
    "df.dtypes"
   ]
  },
  {
   "cell_type": "markdown",
   "id": "b91309ff",
   "metadata": {},
   "source": [
    "Changing the format of 'Team launch' column\n",
    "Team launch column have years in which certain rows are in a format like \"1961-1962\"\n",
    "we are considering only the first year since that will suffice our needs"
   ]
  },
  {
   "cell_type": "code",
   "execution_count": 31,
   "id": "4f0d7da4",
   "metadata": {},
   "outputs": [
    {
     "data": {
      "text/html": [
       "<div>\n",
       "<style scoped>\n",
       "    .dataframe tbody tr th:only-of-type {\n",
       "        vertical-align: middle;\n",
       "    }\n",
       "\n",
       "    .dataframe tbody tr th {\n",
       "        vertical-align: top;\n",
       "    }\n",
       "\n",
       "    .dataframe thead th {\n",
       "        text-align: right;\n",
       "    }\n",
       "</style>\n",
       "<table border=\"1\" class=\"dataframe\">\n",
       "  <thead>\n",
       "    <tr style=\"text-align: right;\">\n",
       "      <th></th>\n",
       "      <th>Team</th>\n",
       "      <th>Tournament</th>\n",
       "      <th>Score</th>\n",
       "      <th>PlayedGames</th>\n",
       "      <th>WonGames</th>\n",
       "      <th>DrawnGames</th>\n",
       "      <th>LostGames</th>\n",
       "      <th>BasketScored</th>\n",
       "      <th>BasketGiven</th>\n",
       "      <th>TournamentChampion</th>\n",
       "      <th>Runner-up</th>\n",
       "      <th>TeamLaunch</th>\n",
       "      <th>HighestPositionHeld</th>\n",
       "    </tr>\n",
       "  </thead>\n",
       "  <tbody>\n",
       "    <tr>\n",
       "      <th>0</th>\n",
       "      <td>1</td>\n",
       "      <td>86</td>\n",
       "      <td>4385</td>\n",
       "      <td>2762</td>\n",
       "      <td>1647</td>\n",
       "      <td>552</td>\n",
       "      <td>563</td>\n",
       "      <td>5947</td>\n",
       "      <td>3140</td>\n",
       "      <td>33</td>\n",
       "      <td>23</td>\n",
       "      <td>1929</td>\n",
       "      <td>1</td>\n",
       "    </tr>\n",
       "    <tr>\n",
       "      <th>1</th>\n",
       "      <td>2</td>\n",
       "      <td>86</td>\n",
       "      <td>4262</td>\n",
       "      <td>2762</td>\n",
       "      <td>1581</td>\n",
       "      <td>573</td>\n",
       "      <td>608</td>\n",
       "      <td>5900</td>\n",
       "      <td>3114</td>\n",
       "      <td>25</td>\n",
       "      <td>25</td>\n",
       "      <td>1929</td>\n",
       "      <td>1</td>\n",
       "    </tr>\n",
       "    <tr>\n",
       "      <th>2</th>\n",
       "      <td>3</td>\n",
       "      <td>80</td>\n",
       "      <td>3442</td>\n",
       "      <td>2614</td>\n",
       "      <td>1241</td>\n",
       "      <td>598</td>\n",
       "      <td>775</td>\n",
       "      <td>4534</td>\n",
       "      <td>3309</td>\n",
       "      <td>10</td>\n",
       "      <td>8</td>\n",
       "      <td>1929</td>\n",
       "      <td>1</td>\n",
       "    </tr>\n",
       "    <tr>\n",
       "      <th>3</th>\n",
       "      <td>4</td>\n",
       "      <td>82</td>\n",
       "      <td>3386</td>\n",
       "      <td>2664</td>\n",
       "      <td>1187</td>\n",
       "      <td>616</td>\n",
       "      <td>861</td>\n",
       "      <td>4398</td>\n",
       "      <td>3469</td>\n",
       "      <td>6</td>\n",
       "      <td>6</td>\n",
       "      <td>1931</td>\n",
       "      <td>1</td>\n",
       "    </tr>\n",
       "    <tr>\n",
       "      <th>4</th>\n",
       "      <td>5</td>\n",
       "      <td>86</td>\n",
       "      <td>3368</td>\n",
       "      <td>2762</td>\n",
       "      <td>1209</td>\n",
       "      <td>633</td>\n",
       "      <td>920</td>\n",
       "      <td>4631</td>\n",
       "      <td>3700</td>\n",
       "      <td>8</td>\n",
       "      <td>7</td>\n",
       "      <td>1929</td>\n",
       "      <td>1</td>\n",
       "    </tr>\n",
       "  </tbody>\n",
       "</table>\n",
       "</div>"
      ],
      "text/plain": [
       "   Team  Tournament Score PlayedGames WonGames DrawnGames LostGames  \\\n",
       "0     1          86  4385        2762     1647        552       563   \n",
       "1     2          86  4262        2762     1581        573       608   \n",
       "2     3          80  3442        2614     1241        598       775   \n",
       "3     4          82  3386        2664     1187        616       861   \n",
       "4     5          86  3368        2762     1209        633       920   \n",
       "\n",
       "  BasketScored BasketGiven TournamentChampion Runner-up TeamLaunch  \\\n",
       "0         5947        3140                 33        23       1929   \n",
       "1         5900        3114                 25        25       1929   \n",
       "2         4534        3309                 10         8       1929   \n",
       "3         4398        3469                  6         6       1931   \n",
       "4         4631        3700                  8         7       1929   \n",
       "\n",
       "   HighestPositionHeld  \n",
       "0                    1  \n",
       "1                    1  \n",
       "2                    1  \n",
       "3                    1  \n",
       "4                    1  "
      ]
     },
     "execution_count": 31,
     "metadata": {},
     "output_type": "execute_result"
    }
   ],
   "source": [
    "df[\"TeamLaunch\"]=df[\"TeamLaunch\"].str.slice(0,4)\n",
    "df.head()"
   ]
  },
  {
   "cell_type": "markdown",
   "id": "d9e97e18",
   "metadata": {},
   "source": [
    "Now every column contains numbers only so we convert all of them into numerical columns"
   ]
  },
  {
   "cell_type": "markdown",
   "id": "1364d555",
   "metadata": {},
   "source": [
    "Removing '-' and replacing it with null value"
   ]
  },
  {
   "cell_type": "code",
   "execution_count": 32,
   "id": "4e80b38c",
   "metadata": {},
   "outputs": [
    {
     "data": {
      "text/html": [
       "<div>\n",
       "<style scoped>\n",
       "    .dataframe tbody tr th:only-of-type {\n",
       "        vertical-align: middle;\n",
       "    }\n",
       "\n",
       "    .dataframe tbody tr th {\n",
       "        vertical-align: top;\n",
       "    }\n",
       "\n",
       "    .dataframe thead th {\n",
       "        text-align: right;\n",
       "    }\n",
       "</style>\n",
       "<table border=\"1\" class=\"dataframe\">\n",
       "  <thead>\n",
       "    <tr style=\"text-align: right;\">\n",
       "      <th></th>\n",
       "      <th>Team</th>\n",
       "      <th>Tournament</th>\n",
       "      <th>Score</th>\n",
       "      <th>PlayedGames</th>\n",
       "      <th>WonGames</th>\n",
       "      <th>DrawnGames</th>\n",
       "      <th>LostGames</th>\n",
       "      <th>BasketScored</th>\n",
       "      <th>BasketGiven</th>\n",
       "      <th>TournamentChampion</th>\n",
       "      <th>Runner-up</th>\n",
       "      <th>TeamLaunch</th>\n",
       "      <th>HighestPositionHeld</th>\n",
       "    </tr>\n",
       "  </thead>\n",
       "  <tbody>\n",
       "    <tr>\n",
       "      <th>0</th>\n",
       "      <td>1</td>\n",
       "      <td>86</td>\n",
       "      <td>4385</td>\n",
       "      <td>2762</td>\n",
       "      <td>1647</td>\n",
       "      <td>552</td>\n",
       "      <td>563</td>\n",
       "      <td>5947</td>\n",
       "      <td>3140</td>\n",
       "      <td>33</td>\n",
       "      <td>23</td>\n",
       "      <td>1929</td>\n",
       "      <td>1</td>\n",
       "    </tr>\n",
       "    <tr>\n",
       "      <th>1</th>\n",
       "      <td>2</td>\n",
       "      <td>86</td>\n",
       "      <td>4262</td>\n",
       "      <td>2762</td>\n",
       "      <td>1581</td>\n",
       "      <td>573</td>\n",
       "      <td>608</td>\n",
       "      <td>5900</td>\n",
       "      <td>3114</td>\n",
       "      <td>25</td>\n",
       "      <td>25</td>\n",
       "      <td>1929</td>\n",
       "      <td>1</td>\n",
       "    </tr>\n",
       "    <tr>\n",
       "      <th>2</th>\n",
       "      <td>3</td>\n",
       "      <td>80</td>\n",
       "      <td>3442</td>\n",
       "      <td>2614</td>\n",
       "      <td>1241</td>\n",
       "      <td>598</td>\n",
       "      <td>775</td>\n",
       "      <td>4534</td>\n",
       "      <td>3309</td>\n",
       "      <td>10</td>\n",
       "      <td>8</td>\n",
       "      <td>1929</td>\n",
       "      <td>1</td>\n",
       "    </tr>\n",
       "    <tr>\n",
       "      <th>3</th>\n",
       "      <td>4</td>\n",
       "      <td>82</td>\n",
       "      <td>3386</td>\n",
       "      <td>2664</td>\n",
       "      <td>1187</td>\n",
       "      <td>616</td>\n",
       "      <td>861</td>\n",
       "      <td>4398</td>\n",
       "      <td>3469</td>\n",
       "      <td>6</td>\n",
       "      <td>6</td>\n",
       "      <td>1931</td>\n",
       "      <td>1</td>\n",
       "    </tr>\n",
       "    <tr>\n",
       "      <th>4</th>\n",
       "      <td>5</td>\n",
       "      <td>86</td>\n",
       "      <td>3368</td>\n",
       "      <td>2762</td>\n",
       "      <td>1209</td>\n",
       "      <td>633</td>\n",
       "      <td>920</td>\n",
       "      <td>4631</td>\n",
       "      <td>3700</td>\n",
       "      <td>8</td>\n",
       "      <td>7</td>\n",
       "      <td>1929</td>\n",
       "      <td>1</td>\n",
       "    </tr>\n",
       "  </tbody>\n",
       "</table>\n",
       "</div>"
      ],
      "text/plain": [
       "   Team  Tournament Score PlayedGames WonGames DrawnGames LostGames  \\\n",
       "0     1          86  4385        2762     1647        552       563   \n",
       "1     2          86  4262        2762     1581        573       608   \n",
       "2     3          80  3442        2614     1241        598       775   \n",
       "3     4          82  3386        2664     1187        616       861   \n",
       "4     5          86  3368        2762     1209        633       920   \n",
       "\n",
       "  BasketScored BasketGiven TournamentChampion Runner-up TeamLaunch  \\\n",
       "0         5947        3140                 33        23       1929   \n",
       "1         5900        3114                 25        25       1929   \n",
       "2         4534        3309                 10         8       1929   \n",
       "3         4398        3469                  6         6       1931   \n",
       "4         4631        3700                  8         7       1929   \n",
       "\n",
       "   HighestPositionHeld  \n",
       "0                    1  \n",
       "1                    1  \n",
       "2                    1  \n",
       "3                    1  \n",
       "4                    1  "
      ]
     },
     "execution_count": 32,
     "metadata": {},
     "output_type": "execute_result"
    }
   ],
   "source": [
    "# lot of columns have \"-\" to represent null data .\n",
    "# we are going to convert to null values\n",
    "\n",
    "df.replace('-', np.NaN, inplace=True)\n",
    "df.head()\n",
    "\n",
    "# This will also help so to convert the columns to numerical and find the proportion of null values in each column"
   ]
  },
  {
   "cell_type": "markdown",
   "id": "494220fe",
   "metadata": {},
   "source": [
    "Converting all columns into numerical columns"
   ]
  },
  {
   "cell_type": "code",
   "execution_count": 33,
   "id": "01b00f93",
   "metadata": {},
   "outputs": [],
   "source": [
    "# To converting all columns to numeric we are using pd.to_numeric and apply function\n",
    "\n",
    "df = df.apply(pd.to_numeric)"
   ]
  },
  {
   "cell_type": "code",
   "execution_count": 34,
   "id": "e1567e8a",
   "metadata": {},
   "outputs": [
    {
     "data": {
      "text/plain": [
       "Team                     int64\n",
       "Tournament               int64\n",
       "Score                  float64\n",
       "PlayedGames            float64\n",
       "WonGames               float64\n",
       "DrawnGames             float64\n",
       "LostGames              float64\n",
       "BasketScored           float64\n",
       "BasketGiven            float64\n",
       "TournamentChampion     float64\n",
       "Runner-up              float64\n",
       "TeamLaunch               int64\n",
       "HighestPositionHeld      int64\n",
       "dtype: object"
      ]
     },
     "execution_count": 34,
     "metadata": {},
     "output_type": "execute_result"
    }
   ],
   "source": [
    "df.dtypes"
   ]
  },
  {
   "cell_type": "code",
   "execution_count": 35,
   "id": "c814f630",
   "metadata": {},
   "outputs": [],
   "source": [
    "# Now we can see that all columns have become float or integer \n",
    "# this enables us to do varoius calculations and visualizations"
   ]
  },
  {
   "cell_type": "raw",
   "id": "1b4fb9c2",
   "metadata": {},
   "source": [
    "This almost deals with the basic data cleaning part"
   ]
  },
  {
   "cell_type": "markdown",
   "id": "e9bb7f3d",
   "metadata": {},
   "source": [
    "# 2. Perform detailed statistical analysis and EDA using univariate, bi-variate and multivariate EDA techniques to get data driven insights on recommending which teams they can approach which will be a deal win for them.. Also as a data and statistics expert you have to develop a detailed performance report using this data.[ 15 points] Hint: Use statistical techniques and visualization techniques to come up with useful metrics and reporting. Find out the best performing team, oldest team, team with highest goals, team with lowest performance etc. and many more. These are just random examples. Please use your best analytical approach to build this report. You can mix match columns to create new ones which can be used for better analysis. Create your own features if required. Be highly experimental and analytical here to find hidden patterns. Use graphical interactive libraries to enable you to publish interactive plots in python like plotly.\n"
   ]
  },
  {
   "cell_type": "markdown",
   "id": "24a9e030",
   "metadata": {},
   "source": [
    "In Feature engineering  what all things we do\n",
    "\n",
    "1.Missing Values\n",
    "\n",
    "2.Explore About the Numerical Variables\n",
    "\n",
    "3.Explore About categorical Variables\n",
    "\n",
    "4.Finding Relationship between features\n",
    "\n",
    "5.Creating new parameters\n"
   ]
  },
  {
   "cell_type": "code",
   "execution_count": 38,
   "id": "9c5aa936",
   "metadata": {},
   "outputs": [
    {
     "data": {
      "text/plain": [
       "Team                    0\n",
       "Tournament              0\n",
       "Score                   1\n",
       "PlayedGames             1\n",
       "WonGames                1\n",
       "DrawnGames              1\n",
       "LostGames               1\n",
       "BasketScored            1\n",
       "BasketGiven             1\n",
       "TournamentChampion     52\n",
       "Runner-up              48\n",
       "TeamLaunch              0\n",
       "HighestPositionHeld     0\n",
       "dtype: int64"
      ]
     },
     "execution_count": 38,
     "metadata": {},
     "output_type": "execute_result"
    }
   ],
   "source": [
    "#Finding missing values\n",
    "df.isnull().sum()"
   ]
  },
  {
   "cell_type": "code",
   "execution_count": 39,
   "id": "6783cd4f",
   "metadata": {},
   "outputs": [
    {
     "data": {
      "text/plain": [
       "Team                    0.000000\n",
       "Tournament              0.000000\n",
       "Score                   1.639344\n",
       "PlayedGames             1.639344\n",
       "WonGames                1.639344\n",
       "DrawnGames              1.639344\n",
       "LostGames               1.639344\n",
       "BasketScored            1.639344\n",
       "BasketGiven             1.639344\n",
       "TournamentChampion     85.245902\n",
       "Runner-up              78.688525\n",
       "TeamLaunch              0.000000\n",
       "HighestPositionHeld     0.000000\n",
       "dtype: float64"
      ]
     },
     "execution_count": 39,
     "metadata": {},
     "output_type": "execute_result"
    }
   ],
   "source": [
    "# finding percentage of missing values\n",
    "\n",
    "df.isnull().sum()*100/len(df)"
   ]
  },
  {
   "cell_type": "markdown",
   "id": "cc976612",
   "metadata": {},
   "source": [
    "Inferences:\n",
    "\n",
    "\n",
    "We can see that two columns \"TournamentChampion\" and \"Runner-up\" have null values which is amounting more\n",
    "than 75%.\n",
    "So we can drop these columns since it will not fetch us any valid observations"
   ]
  },
  {
   "cell_type": "markdown",
   "id": "3062f2a9",
   "metadata": {},
   "source": [
    "Dropping missing value columns"
   ]
  },
  {
   "cell_type": "code",
   "execution_count": 40,
   "id": "4d706358",
   "metadata": {},
   "outputs": [
    {
     "data": {
      "text/html": [
       "<div>\n",
       "<style scoped>\n",
       "    .dataframe tbody tr th:only-of-type {\n",
       "        vertical-align: middle;\n",
       "    }\n",
       "\n",
       "    .dataframe tbody tr th {\n",
       "        vertical-align: top;\n",
       "    }\n",
       "\n",
       "    .dataframe thead th {\n",
       "        text-align: right;\n",
       "    }\n",
       "</style>\n",
       "<table border=\"1\" class=\"dataframe\">\n",
       "  <thead>\n",
       "    <tr style=\"text-align: right;\">\n",
       "      <th></th>\n",
       "      <th>Team</th>\n",
       "      <th>Tournament</th>\n",
       "      <th>Score</th>\n",
       "      <th>PlayedGames</th>\n",
       "      <th>WonGames</th>\n",
       "      <th>DrawnGames</th>\n",
       "      <th>LostGames</th>\n",
       "      <th>BasketScored</th>\n",
       "      <th>BasketGiven</th>\n",
       "      <th>TeamLaunch</th>\n",
       "      <th>HighestPositionHeld</th>\n",
       "    </tr>\n",
       "  </thead>\n",
       "  <tbody>\n",
       "    <tr>\n",
       "      <th>0</th>\n",
       "      <td>1</td>\n",
       "      <td>86</td>\n",
       "      <td>4385.0</td>\n",
       "      <td>2762.0</td>\n",
       "      <td>1647.0</td>\n",
       "      <td>552.0</td>\n",
       "      <td>563.0</td>\n",
       "      <td>5947.0</td>\n",
       "      <td>3140.0</td>\n",
       "      <td>1929</td>\n",
       "      <td>1</td>\n",
       "    </tr>\n",
       "    <tr>\n",
       "      <th>1</th>\n",
       "      <td>2</td>\n",
       "      <td>86</td>\n",
       "      <td>4262.0</td>\n",
       "      <td>2762.0</td>\n",
       "      <td>1581.0</td>\n",
       "      <td>573.0</td>\n",
       "      <td>608.0</td>\n",
       "      <td>5900.0</td>\n",
       "      <td>3114.0</td>\n",
       "      <td>1929</td>\n",
       "      <td>1</td>\n",
       "    </tr>\n",
       "    <tr>\n",
       "      <th>2</th>\n",
       "      <td>3</td>\n",
       "      <td>80</td>\n",
       "      <td>3442.0</td>\n",
       "      <td>2614.0</td>\n",
       "      <td>1241.0</td>\n",
       "      <td>598.0</td>\n",
       "      <td>775.0</td>\n",
       "      <td>4534.0</td>\n",
       "      <td>3309.0</td>\n",
       "      <td>1929</td>\n",
       "      <td>1</td>\n",
       "    </tr>\n",
       "    <tr>\n",
       "      <th>3</th>\n",
       "      <td>4</td>\n",
       "      <td>82</td>\n",
       "      <td>3386.0</td>\n",
       "      <td>2664.0</td>\n",
       "      <td>1187.0</td>\n",
       "      <td>616.0</td>\n",
       "      <td>861.0</td>\n",
       "      <td>4398.0</td>\n",
       "      <td>3469.0</td>\n",
       "      <td>1931</td>\n",
       "      <td>1</td>\n",
       "    </tr>\n",
       "    <tr>\n",
       "      <th>4</th>\n",
       "      <td>5</td>\n",
       "      <td>86</td>\n",
       "      <td>3368.0</td>\n",
       "      <td>2762.0</td>\n",
       "      <td>1209.0</td>\n",
       "      <td>633.0</td>\n",
       "      <td>920.0</td>\n",
       "      <td>4631.0</td>\n",
       "      <td>3700.0</td>\n",
       "      <td>1929</td>\n",
       "      <td>1</td>\n",
       "    </tr>\n",
       "  </tbody>\n",
       "</table>\n",
       "</div>"
      ],
      "text/plain": [
       "   Team  Tournament   Score  PlayedGames  WonGames  DrawnGames  LostGames  \\\n",
       "0     1          86  4385.0       2762.0    1647.0       552.0      563.0   \n",
       "1     2          86  4262.0       2762.0    1581.0       573.0      608.0   \n",
       "2     3          80  3442.0       2614.0    1241.0       598.0      775.0   \n",
       "3     4          82  3386.0       2664.0    1187.0       616.0      861.0   \n",
       "4     5          86  3368.0       2762.0    1209.0       633.0      920.0   \n",
       "\n",
       "   BasketScored  BasketGiven  TeamLaunch  HighestPositionHeld  \n",
       "0        5947.0       3140.0        1929                    1  \n",
       "1        5900.0       3114.0        1929                    1  \n",
       "2        4534.0       3309.0        1929                    1  \n",
       "3        4398.0       3469.0        1931                    1  \n",
       "4        4631.0       3700.0        1929                    1  "
      ]
     },
     "execution_count": 40,
     "metadata": {},
     "output_type": "execute_result"
    }
   ],
   "source": [
    "df.drop(labels=[\"TournamentChampion\",\"Runner-up\"],axis=1,inplace=True)\n",
    "df.head()"
   ]
  },
  {
   "cell_type": "code",
   "execution_count": 41,
   "id": "132f1fd4",
   "metadata": {},
   "outputs": [
    {
     "data": {
      "text/plain": [
       "(61, 11)"
      ]
     },
     "execution_count": 41,
     "metadata": {},
     "output_type": "execute_result"
    }
   ],
   "source": [
    "df.shape"
   ]
  },
  {
   "cell_type": "code",
   "execution_count": 42,
   "id": "f7dff738",
   "metadata": {},
   "outputs": [
    {
     "data": {
      "text/html": [
       "<div>\n",
       "<style scoped>\n",
       "    .dataframe tbody tr th:only-of-type {\n",
       "        vertical-align: middle;\n",
       "    }\n",
       "\n",
       "    .dataframe tbody tr th {\n",
       "        vertical-align: top;\n",
       "    }\n",
       "\n",
       "    .dataframe thead th {\n",
       "        text-align: right;\n",
       "    }\n",
       "</style>\n",
       "<table border=\"1\" class=\"dataframe\">\n",
       "  <thead>\n",
       "    <tr style=\"text-align: right;\">\n",
       "      <th></th>\n",
       "      <th>Team</th>\n",
       "      <th>Tournament</th>\n",
       "      <th>Score</th>\n",
       "      <th>PlayedGames</th>\n",
       "      <th>WonGames</th>\n",
       "      <th>DrawnGames</th>\n",
       "      <th>LostGames</th>\n",
       "      <th>BasketScored</th>\n",
       "      <th>BasketGiven</th>\n",
       "      <th>TeamLaunch</th>\n",
       "      <th>HighestPositionHeld</th>\n",
       "    </tr>\n",
       "  </thead>\n",
       "  <tbody>\n",
       "    <tr>\n",
       "      <th>Team</th>\n",
       "      <td>1.000000</td>\n",
       "      <td>-0.889986</td>\n",
       "      <td>-0.859626</td>\n",
       "      <td>-0.904917</td>\n",
       "      <td>-0.832639</td>\n",
       "      <td>-0.916201</td>\n",
       "      <td>-0.912652</td>\n",
       "      <td>-0.832640</td>\n",
       "      <td>-0.914011</td>\n",
       "      <td>0.525150</td>\n",
       "      <td>0.822514</td>\n",
       "    </tr>\n",
       "    <tr>\n",
       "      <th>Tournament</th>\n",
       "      <td>-0.889986</td>\n",
       "      <td>1.000000</td>\n",
       "      <td>0.981258</td>\n",
       "      <td>0.998683</td>\n",
       "      <td>0.971749</td>\n",
       "      <td>0.989295</td>\n",
       "      <td>0.949350</td>\n",
       "      <td>0.974867</td>\n",
       "      <td>0.987781</td>\n",
       "      <td>-0.603151</td>\n",
       "      <td>-0.708071</td>\n",
       "    </tr>\n",
       "    <tr>\n",
       "      <th>Score</th>\n",
       "      <td>-0.859626</td>\n",
       "      <td>0.981258</td>\n",
       "      <td>1.000000</td>\n",
       "      <td>0.979687</td>\n",
       "      <td>0.997232</td>\n",
       "      <td>0.958090</td>\n",
       "      <td>0.878780</td>\n",
       "      <td>0.996634</td>\n",
       "      <td>0.943801</td>\n",
       "      <td>-0.538542</td>\n",
       "      <td>-0.669215</td>\n",
       "    </tr>\n",
       "    <tr>\n",
       "      <th>PlayedGames</th>\n",
       "      <td>-0.904917</td>\n",
       "      <td>0.998683</td>\n",
       "      <td>0.979687</td>\n",
       "      <td>1.000000</td>\n",
       "      <td>0.967486</td>\n",
       "      <td>0.993972</td>\n",
       "      <td>0.955925</td>\n",
       "      <td>0.969970</td>\n",
       "      <td>0.990020</td>\n",
       "      <td>-0.581243</td>\n",
       "      <td>-0.711065</td>\n",
       "    </tr>\n",
       "    <tr>\n",
       "      <th>WonGames</th>\n",
       "      <td>-0.832639</td>\n",
       "      <td>0.971749</td>\n",
       "      <td>0.997232</td>\n",
       "      <td>0.967486</td>\n",
       "      <td>1.000000</td>\n",
       "      <td>0.939416</td>\n",
       "      <td>0.851436</td>\n",
       "      <td>0.999312</td>\n",
       "      <td>0.925745</td>\n",
       "      <td>-0.540421</td>\n",
       "      <td>-0.647819</td>\n",
       "    </tr>\n",
       "    <tr>\n",
       "      <th>DrawnGames</th>\n",
       "      <td>-0.916201</td>\n",
       "      <td>0.989295</td>\n",
       "      <td>0.958090</td>\n",
       "      <td>0.993972</td>\n",
       "      <td>0.939416</td>\n",
       "      <td>1.000000</td>\n",
       "      <td>0.972786</td>\n",
       "      <td>0.942234</td>\n",
       "      <td>0.992479</td>\n",
       "      <td>-0.570175</td>\n",
       "      <td>-0.720248</td>\n",
       "    </tr>\n",
       "    <tr>\n",
       "      <th>LostGames</th>\n",
       "      <td>-0.912652</td>\n",
       "      <td>0.949350</td>\n",
       "      <td>0.878780</td>\n",
       "      <td>0.955925</td>\n",
       "      <td>0.851436</td>\n",
       "      <td>0.972786</td>\n",
       "      <td>1.000000</td>\n",
       "      <td>0.857843</td>\n",
       "      <td>0.985041</td>\n",
       "      <td>-0.591571</td>\n",
       "      <td>-0.726172</td>\n",
       "    </tr>\n",
       "    <tr>\n",
       "      <th>BasketScored</th>\n",
       "      <td>-0.832640</td>\n",
       "      <td>0.974867</td>\n",
       "      <td>0.996634</td>\n",
       "      <td>0.969970</td>\n",
       "      <td>0.999312</td>\n",
       "      <td>0.942234</td>\n",
       "      <td>0.857843</td>\n",
       "      <td>1.000000</td>\n",
       "      <td>0.931079</td>\n",
       "      <td>-0.550150</td>\n",
       "      <td>-0.648672</td>\n",
       "    </tr>\n",
       "    <tr>\n",
       "      <th>BasketGiven</th>\n",
       "      <td>-0.914011</td>\n",
       "      <td>0.987781</td>\n",
       "      <td>0.943801</td>\n",
       "      <td>0.990020</td>\n",
       "      <td>0.925745</td>\n",
       "      <td>0.992479</td>\n",
       "      <td>0.985041</td>\n",
       "      <td>0.931079</td>\n",
       "      <td>1.000000</td>\n",
       "      <td>-0.608902</td>\n",
       "      <td>-0.727323</td>\n",
       "    </tr>\n",
       "    <tr>\n",
       "      <th>TeamLaunch</th>\n",
       "      <td>0.525150</td>\n",
       "      <td>-0.603151</td>\n",
       "      <td>-0.538542</td>\n",
       "      <td>-0.581243</td>\n",
       "      <td>-0.540421</td>\n",
       "      <td>-0.570175</td>\n",
       "      <td>-0.591571</td>\n",
       "      <td>-0.550150</td>\n",
       "      <td>-0.608902</td>\n",
       "      <td>1.000000</td>\n",
       "      <td>0.588914</td>\n",
       "    </tr>\n",
       "    <tr>\n",
       "      <th>HighestPositionHeld</th>\n",
       "      <td>0.822514</td>\n",
       "      <td>-0.708071</td>\n",
       "      <td>-0.669215</td>\n",
       "      <td>-0.711065</td>\n",
       "      <td>-0.647819</td>\n",
       "      <td>-0.720248</td>\n",
       "      <td>-0.726172</td>\n",
       "      <td>-0.648672</td>\n",
       "      <td>-0.727323</td>\n",
       "      <td>0.588914</td>\n",
       "      <td>1.000000</td>\n",
       "    </tr>\n",
       "  </tbody>\n",
       "</table>\n",
       "</div>"
      ],
      "text/plain": [
       "                         Team  Tournament     Score  PlayedGames  WonGames  \\\n",
       "Team                 1.000000   -0.889986 -0.859626    -0.904917 -0.832639   \n",
       "Tournament          -0.889986    1.000000  0.981258     0.998683  0.971749   \n",
       "Score               -0.859626    0.981258  1.000000     0.979687  0.997232   \n",
       "PlayedGames         -0.904917    0.998683  0.979687     1.000000  0.967486   \n",
       "WonGames            -0.832639    0.971749  0.997232     0.967486  1.000000   \n",
       "DrawnGames          -0.916201    0.989295  0.958090     0.993972  0.939416   \n",
       "LostGames           -0.912652    0.949350  0.878780     0.955925  0.851436   \n",
       "BasketScored        -0.832640    0.974867  0.996634     0.969970  0.999312   \n",
       "BasketGiven         -0.914011    0.987781  0.943801     0.990020  0.925745   \n",
       "TeamLaunch           0.525150   -0.603151 -0.538542    -0.581243 -0.540421   \n",
       "HighestPositionHeld  0.822514   -0.708071 -0.669215    -0.711065 -0.647819   \n",
       "\n",
       "                     DrawnGames  LostGames  BasketScored  BasketGiven  \\\n",
       "Team                  -0.916201  -0.912652     -0.832640    -0.914011   \n",
       "Tournament             0.989295   0.949350      0.974867     0.987781   \n",
       "Score                  0.958090   0.878780      0.996634     0.943801   \n",
       "PlayedGames            0.993972   0.955925      0.969970     0.990020   \n",
       "WonGames               0.939416   0.851436      0.999312     0.925745   \n",
       "DrawnGames             1.000000   0.972786      0.942234     0.992479   \n",
       "LostGames              0.972786   1.000000      0.857843     0.985041   \n",
       "BasketScored           0.942234   0.857843      1.000000     0.931079   \n",
       "BasketGiven            0.992479   0.985041      0.931079     1.000000   \n",
       "TeamLaunch            -0.570175  -0.591571     -0.550150    -0.608902   \n",
       "HighestPositionHeld   -0.720248  -0.726172     -0.648672    -0.727323   \n",
       "\n",
       "                     TeamLaunch  HighestPositionHeld  \n",
       "Team                   0.525150             0.822514  \n",
       "Tournament            -0.603151            -0.708071  \n",
       "Score                 -0.538542            -0.669215  \n",
       "PlayedGames           -0.581243            -0.711065  \n",
       "WonGames              -0.540421            -0.647819  \n",
       "DrawnGames            -0.570175            -0.720248  \n",
       "LostGames             -0.591571            -0.726172  \n",
       "BasketScored          -0.550150            -0.648672  \n",
       "BasketGiven           -0.608902            -0.727323  \n",
       "TeamLaunch             1.000000             0.588914  \n",
       "HighestPositionHeld    0.588914             1.000000  "
      ]
     },
     "execution_count": 42,
     "metadata": {},
     "output_type": "execute_result"
    }
   ],
   "source": [
    "df.corr()"
   ]
  },
  {
   "cell_type": "markdown",
   "id": "dc3570f1",
   "metadata": {},
   "source": [
    "# Checking for outliers"
   ]
  },
  {
   "cell_type": "markdown",
   "id": "593cbbea",
   "metadata": {},
   "source": [
    "\n",
    "Outliers are values which are radically different from the normal range of values in a columns\n",
    "These points can have an negative impact on the ML model we are building for prediction\n",
    "so it is neccessary to handle these outliers\n",
    "\n",
    "Here we are first trying to check the presence of outliers\n",
    "\n",
    "Instead of checking for outliers in every column of the dataframe we first check the correlatiion\n",
    "of every parameter and decide on which we should look for outliers\n",
    "\n",
    "We use the help of box plot for finding Outliers"
   ]
  },
  {
   "cell_type": "code",
   "execution_count": 43,
   "id": "3ddcecec",
   "metadata": {},
   "outputs": [
    {
     "data": {
      "text/html": [
       "<div>\n",
       "<style scoped>\n",
       "    .dataframe tbody tr th:only-of-type {\n",
       "        vertical-align: middle;\n",
       "    }\n",
       "\n",
       "    .dataframe tbody tr th {\n",
       "        vertical-align: top;\n",
       "    }\n",
       "\n",
       "    .dataframe thead th {\n",
       "        text-align: right;\n",
       "    }\n",
       "</style>\n",
       "<table border=\"1\" class=\"dataframe\">\n",
       "  <thead>\n",
       "    <tr style=\"text-align: right;\">\n",
       "      <th></th>\n",
       "      <th>Team</th>\n",
       "      <th>Tournament</th>\n",
       "      <th>Score</th>\n",
       "      <th>PlayedGames</th>\n",
       "      <th>WonGames</th>\n",
       "      <th>DrawnGames</th>\n",
       "      <th>LostGames</th>\n",
       "      <th>BasketScored</th>\n",
       "      <th>BasketGiven</th>\n",
       "      <th>TeamLaunch</th>\n",
       "      <th>HighestPositionHeld</th>\n",
       "    </tr>\n",
       "  </thead>\n",
       "  <tbody>\n",
       "    <tr>\n",
       "      <th>Team</th>\n",
       "      <td>1.000000</td>\n",
       "      <td>-0.889986</td>\n",
       "      <td>-0.859626</td>\n",
       "      <td>-0.904917</td>\n",
       "      <td>-0.832639</td>\n",
       "      <td>-0.916201</td>\n",
       "      <td>-0.912652</td>\n",
       "      <td>-0.832640</td>\n",
       "      <td>-0.914011</td>\n",
       "      <td>0.525150</td>\n",
       "      <td>0.822514</td>\n",
       "    </tr>\n",
       "    <tr>\n",
       "      <th>Tournament</th>\n",
       "      <td>-0.889986</td>\n",
       "      <td>1.000000</td>\n",
       "      <td>0.981258</td>\n",
       "      <td>0.998683</td>\n",
       "      <td>0.971749</td>\n",
       "      <td>0.989295</td>\n",
       "      <td>0.949350</td>\n",
       "      <td>0.974867</td>\n",
       "      <td>0.987781</td>\n",
       "      <td>-0.603151</td>\n",
       "      <td>-0.708071</td>\n",
       "    </tr>\n",
       "    <tr>\n",
       "      <th>Score</th>\n",
       "      <td>-0.859626</td>\n",
       "      <td>0.981258</td>\n",
       "      <td>1.000000</td>\n",
       "      <td>0.979687</td>\n",
       "      <td>0.997232</td>\n",
       "      <td>0.958090</td>\n",
       "      <td>0.878780</td>\n",
       "      <td>0.996634</td>\n",
       "      <td>0.943801</td>\n",
       "      <td>-0.538542</td>\n",
       "      <td>-0.669215</td>\n",
       "    </tr>\n",
       "    <tr>\n",
       "      <th>PlayedGames</th>\n",
       "      <td>-0.904917</td>\n",
       "      <td>0.998683</td>\n",
       "      <td>0.979687</td>\n",
       "      <td>1.000000</td>\n",
       "      <td>0.967486</td>\n",
       "      <td>0.993972</td>\n",
       "      <td>0.955925</td>\n",
       "      <td>0.969970</td>\n",
       "      <td>0.990020</td>\n",
       "      <td>-0.581243</td>\n",
       "      <td>-0.711065</td>\n",
       "    </tr>\n",
       "    <tr>\n",
       "      <th>WonGames</th>\n",
       "      <td>-0.832639</td>\n",
       "      <td>0.971749</td>\n",
       "      <td>0.997232</td>\n",
       "      <td>0.967486</td>\n",
       "      <td>1.000000</td>\n",
       "      <td>0.939416</td>\n",
       "      <td>0.851436</td>\n",
       "      <td>0.999312</td>\n",
       "      <td>0.925745</td>\n",
       "      <td>-0.540421</td>\n",
       "      <td>-0.647819</td>\n",
       "    </tr>\n",
       "    <tr>\n",
       "      <th>DrawnGames</th>\n",
       "      <td>-0.916201</td>\n",
       "      <td>0.989295</td>\n",
       "      <td>0.958090</td>\n",
       "      <td>0.993972</td>\n",
       "      <td>0.939416</td>\n",
       "      <td>1.000000</td>\n",
       "      <td>0.972786</td>\n",
       "      <td>0.942234</td>\n",
       "      <td>0.992479</td>\n",
       "      <td>-0.570175</td>\n",
       "      <td>-0.720248</td>\n",
       "    </tr>\n",
       "    <tr>\n",
       "      <th>LostGames</th>\n",
       "      <td>-0.912652</td>\n",
       "      <td>0.949350</td>\n",
       "      <td>0.878780</td>\n",
       "      <td>0.955925</td>\n",
       "      <td>0.851436</td>\n",
       "      <td>0.972786</td>\n",
       "      <td>1.000000</td>\n",
       "      <td>0.857843</td>\n",
       "      <td>0.985041</td>\n",
       "      <td>-0.591571</td>\n",
       "      <td>-0.726172</td>\n",
       "    </tr>\n",
       "    <tr>\n",
       "      <th>BasketScored</th>\n",
       "      <td>-0.832640</td>\n",
       "      <td>0.974867</td>\n",
       "      <td>0.996634</td>\n",
       "      <td>0.969970</td>\n",
       "      <td>0.999312</td>\n",
       "      <td>0.942234</td>\n",
       "      <td>0.857843</td>\n",
       "      <td>1.000000</td>\n",
       "      <td>0.931079</td>\n",
       "      <td>-0.550150</td>\n",
       "      <td>-0.648672</td>\n",
       "    </tr>\n",
       "    <tr>\n",
       "      <th>BasketGiven</th>\n",
       "      <td>-0.914011</td>\n",
       "      <td>0.987781</td>\n",
       "      <td>0.943801</td>\n",
       "      <td>0.990020</td>\n",
       "      <td>0.925745</td>\n",
       "      <td>0.992479</td>\n",
       "      <td>0.985041</td>\n",
       "      <td>0.931079</td>\n",
       "      <td>1.000000</td>\n",
       "      <td>-0.608902</td>\n",
       "      <td>-0.727323</td>\n",
       "    </tr>\n",
       "    <tr>\n",
       "      <th>TeamLaunch</th>\n",
       "      <td>0.525150</td>\n",
       "      <td>-0.603151</td>\n",
       "      <td>-0.538542</td>\n",
       "      <td>-0.581243</td>\n",
       "      <td>-0.540421</td>\n",
       "      <td>-0.570175</td>\n",
       "      <td>-0.591571</td>\n",
       "      <td>-0.550150</td>\n",
       "      <td>-0.608902</td>\n",
       "      <td>1.000000</td>\n",
       "      <td>0.588914</td>\n",
       "    </tr>\n",
       "    <tr>\n",
       "      <th>HighestPositionHeld</th>\n",
       "      <td>0.822514</td>\n",
       "      <td>-0.708071</td>\n",
       "      <td>-0.669215</td>\n",
       "      <td>-0.711065</td>\n",
       "      <td>-0.647819</td>\n",
       "      <td>-0.720248</td>\n",
       "      <td>-0.726172</td>\n",
       "      <td>-0.648672</td>\n",
       "      <td>-0.727323</td>\n",
       "      <td>0.588914</td>\n",
       "      <td>1.000000</td>\n",
       "    </tr>\n",
       "  </tbody>\n",
       "</table>\n",
       "</div>"
      ],
      "text/plain": [
       "                         Team  Tournament     Score  PlayedGames  WonGames  \\\n",
       "Team                 1.000000   -0.889986 -0.859626    -0.904917 -0.832639   \n",
       "Tournament          -0.889986    1.000000  0.981258     0.998683  0.971749   \n",
       "Score               -0.859626    0.981258  1.000000     0.979687  0.997232   \n",
       "PlayedGames         -0.904917    0.998683  0.979687     1.000000  0.967486   \n",
       "WonGames            -0.832639    0.971749  0.997232     0.967486  1.000000   \n",
       "DrawnGames          -0.916201    0.989295  0.958090     0.993972  0.939416   \n",
       "LostGames           -0.912652    0.949350  0.878780     0.955925  0.851436   \n",
       "BasketScored        -0.832640    0.974867  0.996634     0.969970  0.999312   \n",
       "BasketGiven         -0.914011    0.987781  0.943801     0.990020  0.925745   \n",
       "TeamLaunch           0.525150   -0.603151 -0.538542    -0.581243 -0.540421   \n",
       "HighestPositionHeld  0.822514   -0.708071 -0.669215    -0.711065 -0.647819   \n",
       "\n",
       "                     DrawnGames  LostGames  BasketScored  BasketGiven  \\\n",
       "Team                  -0.916201  -0.912652     -0.832640    -0.914011   \n",
       "Tournament             0.989295   0.949350      0.974867     0.987781   \n",
       "Score                  0.958090   0.878780      0.996634     0.943801   \n",
       "PlayedGames            0.993972   0.955925      0.969970     0.990020   \n",
       "WonGames               0.939416   0.851436      0.999312     0.925745   \n",
       "DrawnGames             1.000000   0.972786      0.942234     0.992479   \n",
       "LostGames              0.972786   1.000000      0.857843     0.985041   \n",
       "BasketScored           0.942234   0.857843      1.000000     0.931079   \n",
       "BasketGiven            0.992479   0.985041      0.931079     1.000000   \n",
       "TeamLaunch            -0.570175  -0.591571     -0.550150    -0.608902   \n",
       "HighestPositionHeld   -0.720248  -0.726172     -0.648672    -0.727323   \n",
       "\n",
       "                     TeamLaunch  HighestPositionHeld  \n",
       "Team                   0.525150             0.822514  \n",
       "Tournament            -0.603151            -0.708071  \n",
       "Score                 -0.538542            -0.669215  \n",
       "PlayedGames           -0.581243            -0.711065  \n",
       "WonGames              -0.540421            -0.647819  \n",
       "DrawnGames            -0.570175            -0.720248  \n",
       "LostGames             -0.591571            -0.726172  \n",
       "BasketScored          -0.550150            -0.648672  \n",
       "BasketGiven           -0.608902            -0.727323  \n",
       "TeamLaunch             1.000000             0.588914  \n",
       "HighestPositionHeld    0.588914             1.000000  "
      ]
     },
     "execution_count": 43,
     "metadata": {},
     "output_type": "execute_result"
    }
   ],
   "source": [
    "df.corr()"
   ]
  },
  {
   "cell_type": "code",
   "execution_count": 44,
   "id": "9154ba2a",
   "metadata": {},
   "outputs": [
    {
     "data": {
      "text/plain": [
       "<AxesSubplot:>"
      ]
     },
     "execution_count": 44,
     "metadata": {},
     "output_type": "execute_result"
    },
    {
     "data": {
      "image/png": "[encoded data removed]",
      "text/plain": [
       "<Figure size 432x288 with 2 Axes>"
      ]
     },
     "metadata": {
      "needs_background": "light"
     },
     "output_type": "display_data"
    }
   ],
   "source": [
    "sns.heatmap(df.corr(),annot=True,cmap=\"rainbow\")"
   ]
  },
  {
   "cell_type": "markdown",
   "id": "25016f5e",
   "metadata": {},
   "source": [
    "Inferences\n",
    "\n",
    "\n",
    "From the correlation matrix we can see that score,played games,wongames,lost games,DrawnGames,Basketscored,BasketGiven all have a correlation coefficient of around 0.9-0.95 between themselvers\n",
    "This means they are all dependent to each other.From basic domain knowledge we can understand all these parameters will increase as the number of games played increases\n",
    "\n",
    "So for checking outliers we can just check in the playedGames column and it will speak for the other above mentioned parameters\n",
    "\n",
    "One more point to note is that the team and playedgames have a negative 0.9 correlation.\n",
    "From this we can infer that teams are named and arranged in the decreasing order of the played games."
   ]
  },
  {
   "cell_type": "code",
   "execution_count": 45,
   "id": "7666af71",
   "metadata": {},
   "outputs": [
    {
     "data": {
      "text/plain": [
       "<AxesSubplot:xlabel='PlayedGames'>"
      ]
     },
     "execution_count": 45,
     "metadata": {},
     "output_type": "execute_result"
    },
    {
     "data": {
      "image/png": "[encoded data removed]",
      "text/plain": [
       "<Figure size 432x288 with 1 Axes>"
      ]
     },
     "metadata": {
      "needs_background": "light"
     },
     "output_type": "display_data"
    }
   ],
   "source": [
    "sns.boxplot(data=df,x=\"PlayedGames\")"
   ]
  },
  {
   "cell_type": "markdown",
   "id": "4eff32dd",
   "metadata": {},
   "source": [
    "This indicates there are no outliers in the particular column and the median no.of games is around 500"
   ]
  },
  {
   "cell_type": "markdown",
   "id": "9d5a4c4c",
   "metadata": {},
   "source": [
    "Adding new parameters\n",
    "\n",
    "\n",
    "The various parameters like score,played games,wongames,lost games,DrawnGames,Basketscored,BasketGiven etc are all dependent upon the number of games played by a team\n",
    "More the number of a games more the magnitude of the above mentioned parameters\n",
    "\n",
    "Therefore inorder to properly compare the performance of the teams based on these parameters we have find the percentage of these parameters with respect to the number of games played\n",
    "\n",
    "Then only we can deduce a logical inference about the team performance and hence selection of the best teams."
   ]
  },
  {
   "cell_type": "code",
   "execution_count": 46,
   "id": "b8c218e3",
   "metadata": {},
   "outputs": [
    {
     "data": {
      "text/html": [
       "<div>\n",
       "<style scoped>\n",
       "    .dataframe tbody tr th:only-of-type {\n",
       "        vertical-align: middle;\n",
       "    }\n",
       "\n",
       "    .dataframe tbody tr th {\n",
       "        vertical-align: top;\n",
       "    }\n",
       "\n",
       "    .dataframe thead th {\n",
       "        text-align: right;\n",
       "    }\n",
       "</style>\n",
       "<table border=\"1\" class=\"dataframe\">\n",
       "  <thead>\n",
       "    <tr style=\"text-align: right;\">\n",
       "      <th></th>\n",
       "      <th>Team</th>\n",
       "      <th>Tournament</th>\n",
       "      <th>Score</th>\n",
       "      <th>PlayedGames</th>\n",
       "      <th>WonGames</th>\n",
       "      <th>DrawnGames</th>\n",
       "      <th>LostGames</th>\n",
       "      <th>BasketScored</th>\n",
       "      <th>BasketGiven</th>\n",
       "      <th>TeamLaunch</th>\n",
       "      <th>HighestPositionHeld</th>\n",
       "      <th>Score%</th>\n",
       "      <th>WonGames%</th>\n",
       "      <th>DrawnGames%</th>\n",
       "      <th>LostGames%</th>\n",
       "      <th>BasketScored%</th>\n",
       "      <th>BasketGiven%</th>\n",
       "    </tr>\n",
       "  </thead>\n",
       "  <tbody>\n",
       "    <tr>\n",
       "      <th>0</th>\n",
       "      <td>1</td>\n",
       "      <td>86</td>\n",
       "      <td>4385.0</td>\n",
       "      <td>2762.0</td>\n",
       "      <td>1647.0</td>\n",
       "      <td>552.0</td>\n",
       "      <td>563.0</td>\n",
       "      <td>5947.0</td>\n",
       "      <td>3140.0</td>\n",
       "      <td>1929</td>\n",
       "      <td>1</td>\n",
       "      <td>1.59</td>\n",
       "      <td>0.60</td>\n",
       "      <td>0.20</td>\n",
       "      <td>0.20</td>\n",
       "      <td>2.15</td>\n",
       "      <td>1.14</td>\n",
       "    </tr>\n",
       "    <tr>\n",
       "      <th>1</th>\n",
       "      <td>2</td>\n",
       "      <td>86</td>\n",
       "      <td>4262.0</td>\n",
       "      <td>2762.0</td>\n",
       "      <td>1581.0</td>\n",
       "      <td>573.0</td>\n",
       "      <td>608.0</td>\n",
       "      <td>5900.0</td>\n",
       "      <td>3114.0</td>\n",
       "      <td>1929</td>\n",
       "      <td>1</td>\n",
       "      <td>1.54</td>\n",
       "      <td>0.57</td>\n",
       "      <td>0.21</td>\n",
       "      <td>0.22</td>\n",
       "      <td>2.14</td>\n",
       "      <td>1.13</td>\n",
       "    </tr>\n",
       "    <tr>\n",
       "      <th>2</th>\n",
       "      <td>3</td>\n",
       "      <td>80</td>\n",
       "      <td>3442.0</td>\n",
       "      <td>2614.0</td>\n",
       "      <td>1241.0</td>\n",
       "      <td>598.0</td>\n",
       "      <td>775.0</td>\n",
       "      <td>4534.0</td>\n",
       "      <td>3309.0</td>\n",
       "      <td>1929</td>\n",
       "      <td>1</td>\n",
       "      <td>1.32</td>\n",
       "      <td>0.47</td>\n",
       "      <td>0.23</td>\n",
       "      <td>0.30</td>\n",
       "      <td>1.73</td>\n",
       "      <td>1.27</td>\n",
       "    </tr>\n",
       "    <tr>\n",
       "      <th>3</th>\n",
       "      <td>4</td>\n",
       "      <td>82</td>\n",
       "      <td>3386.0</td>\n",
       "      <td>2664.0</td>\n",
       "      <td>1187.0</td>\n",
       "      <td>616.0</td>\n",
       "      <td>861.0</td>\n",
       "      <td>4398.0</td>\n",
       "      <td>3469.0</td>\n",
       "      <td>1931</td>\n",
       "      <td>1</td>\n",
       "      <td>1.27</td>\n",
       "      <td>0.45</td>\n",
       "      <td>0.23</td>\n",
       "      <td>0.32</td>\n",
       "      <td>1.65</td>\n",
       "      <td>1.30</td>\n",
       "    </tr>\n",
       "    <tr>\n",
       "      <th>4</th>\n",
       "      <td>5</td>\n",
       "      <td>86</td>\n",
       "      <td>3368.0</td>\n",
       "      <td>2762.0</td>\n",
       "      <td>1209.0</td>\n",
       "      <td>633.0</td>\n",
       "      <td>920.0</td>\n",
       "      <td>4631.0</td>\n",
       "      <td>3700.0</td>\n",
       "      <td>1929</td>\n",
       "      <td>1</td>\n",
       "      <td>1.22</td>\n",
       "      <td>0.44</td>\n",
       "      <td>0.23</td>\n",
       "      <td>0.33</td>\n",
       "      <td>1.68</td>\n",
       "      <td>1.34</td>\n",
       "    </tr>\n",
       "  </tbody>\n",
       "</table>\n",
       "</div>"
      ],
      "text/plain": [
       "   Team  Tournament   Score  PlayedGames  WonGames  DrawnGames  LostGames  \\\n",
       "0     1          86  4385.0       2762.0    1647.0       552.0      563.0   \n",
       "1     2          86  4262.0       2762.0    1581.0       573.0      608.0   \n",
       "2     3          80  3442.0       2614.0    1241.0       598.0      775.0   \n",
       "3     4          82  3386.0       2664.0    1187.0       616.0      861.0   \n",
       "4     5          86  3368.0       2762.0    1209.0       633.0      920.0   \n",
       "\n",
       "   BasketScored  BasketGiven  TeamLaunch  HighestPositionHeld  Score%  \\\n",
       "0        5947.0       3140.0        1929                    1    1.59   \n",
       "1        5900.0       3114.0        1929                    1    1.54   \n",
       "2        4534.0       3309.0        1929                    1    1.32   \n",
       "3        4398.0       3469.0        1931                    1    1.27   \n",
       "4        4631.0       3700.0        1929                    1    1.22   \n",
       "\n",
       "   WonGames%  DrawnGames%  LostGames%  BasketScored%  BasketGiven%  \n",
       "0       0.60         0.20        0.20           2.15          1.14  \n",
       "1       0.57         0.21        0.22           2.14          1.13  \n",
       "2       0.47         0.23        0.30           1.73          1.27  \n",
       "3       0.45         0.23        0.32           1.65          1.30  \n",
       "4       0.44         0.23        0.33           1.68          1.34  "
      ]
     },
     "execution_count": 46,
     "metadata": {},
     "output_type": "execute_result"
    }
   ],
   "source": [
    "df[\"Score%\"]=round(df[\"Score\"]/df[\"PlayedGames\"],2)\n",
    "df[\"WonGames%\"]=round(df[\"WonGames\"]/df[\"PlayedGames\"],2)\n",
    "df[\"DrawnGames%\"]=round(df[\"DrawnGames\"]/df[\"PlayedGames\"],2)\n",
    "df[\"LostGames%\"]=round(df[\"LostGames\"]/df[\"PlayedGames\"],2)\n",
    "df[\"BasketScored%\"]=round(df[\"BasketScored\"]/df[\"PlayedGames\"],2)\n",
    "df[\"BasketGiven%\"]=round(df[\"BasketGiven\"]/df[\"PlayedGames\"],2)\n",
    "\n",
    "df.head()"
   ]
  },
  {
   "cell_type": "markdown",
   "id": "701ce3a6",
   "metadata": {},
   "source": [
    "Data Visualization\n",
    "\n",
    "\n",
    "\n",
    "Uni-Variate Analysis\n",
    "\n",
    "We have made performance parameters like score%,win%,loss% etc\n",
    "Now we are going to plot these performance parameters and find the type of distribution of those"
   ]
  },
  {
   "cell_type": "code",
   "execution_count": 47,
   "id": "42506d96",
   "metadata": {},
   "outputs": [
    {
     "name": "stdout",
     "output_type": "stream",
     "text": [
      "['Score%', 'WonGames%', 'DrawnGames%', 'LostGames%', 'BasketScored%', 'BasketGiven%']\n"
     ]
    }
   ],
   "source": [
    "performance_parameters=[]\n",
    "for feature in df.columns:\n",
    "    if \"%\"in feature:\n",
    "        performance_parameters.append(feature)\n",
    "    else:\n",
    "        continue\n",
    "print(performance_parameters)\n",
    "    "
   ]
  },
  {
   "cell_type": "code",
   "execution_count": 48,
   "id": "6f4661ef",
   "metadata": {},
   "outputs": [
    {
     "data": {
      "image/png": "[encoded data removed]",
      "text/plain": [
       "<Figure size 1080x720 with 6 Axes>"
      ]
     },
     "metadata": {
      "needs_background": "light"
     },
     "output_type": "display_data"
    }
   ],
   "source": [
    "fig,ax = plt.subplots(2,3,figsize = (15,10))\n",
    "sns.distplot(df['Score%'], color = 'b',ax = ax[0][0])\n",
    "sns.distplot(df[\"WonGames%\"], color = 'g',ax = ax[0][1])\n",
    "sns.distplot(df['DrawnGames%'], color = 'r',ax = ax[0][2])\n",
    "sns.distplot(df['LostGames%'], color = 'r',ax = ax[1][0])\n",
    "sns.distplot(df['BasketScored%'], color = 'b',ax = ax[1][1])\n",
    "sns.distplot(df['BasketGiven%'], color = 'g',ax = ax[1][2])\n",
    "plt.show()\n"
   ]
  },
  {
   "cell_type": "markdown",
   "id": "f1d7eaf2",
   "metadata": {},
   "source": [
    "Univariate analysis will not give much inferences other than the shape of the distribution\n",
    "\n",
    "So we are going to do a bi variate analysis for some meaningfull insights"
   ]
  },
  {
   "cell_type": "markdown",
   "id": "9583902f",
   "metadata": {},
   "source": [
    "# Bi-Variate Analysis"
   ]
  },
  {
   "cell_type": "code",
   "execution_count": 49,
   "id": "9a4aae1c",
   "metadata": {},
   "outputs": [
    {
     "data": {
      "text/plain": [
       "Team  WonGames%\n",
       "1     0.60         1\n",
       "2     0.57         1\n",
       "3     0.47         1\n",
       "4     0.45         1\n",
       "5     0.44         1\n",
       "Name: WonGames%, dtype: int64"
      ]
     },
     "execution_count": 49,
     "metadata": {},
     "output_type": "execute_result"
    }
   ],
   "source": [
    "#best performing teams\n",
    "best_performing_teams = df.groupby('Team')['WonGames%'].value_counts().head(5)\n",
    "best_performing_teams"
   ]
  },
  {
   "cell_type": "code",
   "execution_count": 50,
   "id": "e5bfe41d",
   "metadata": {},
   "outputs": [
    {
     "data": {
      "text/plain": [
       "<AxesSubplot:xlabel='Team', ylabel='WonGames%'>"
      ]
     },
     "execution_count": 50,
     "metadata": {},
     "output_type": "execute_result"
    },
    {
     "data": {
      "image/png": "[encoded data removed]",
      "text/plain": [
       "<Figure size 2160x1440 with 1 Axes>"
      ]
     },
     "metadata": {
      "needs_background": "light"
     },
     "output_type": "display_data"
    }
   ],
   "source": [
    "plt.figure(figsize=(30,20))\n",
    "sns.barplot(data = df , x = 'Team', y= 'WonGames%')"
   ]
  },
  {
   "cell_type": "code",
   "execution_count": 51,
   "id": "314024e4",
   "metadata": {},
   "outputs": [
    {
     "name": "stdout",
     "output_type": "stream",
     "text": [
      "1939.0\n"
     ]
    },
    {
     "data": {
      "image/png": "[encoded data removed]",
      "text/plain": [
       "<Figure size 432x288 with 1 Axes>"
      ]
     },
     "metadata": {
      "needs_background": "light"
     },
     "output_type": "display_data"
    }
   ],
   "source": [
    "# categorizing into old and new teams\n",
    "\n",
    "sns.distplot(df[\"TeamLaunch\"])\n",
    "\n",
    "print(df[\"TeamLaunch\"].quantile(q=0.3))\n"
   ]
  },
  {
   "cell_type": "markdown",
   "id": "9a814793",
   "metadata": {},
   "source": [
    "we can consider the teams after 1939 only since in the problem statement it was mentioned that the older teams are already in contract"
   ]
  },
  {
   "cell_type": "markdown",
   "id": "e816adda",
   "metadata": {},
   "source": [
    "Removing older teams"
   ]
  },
  {
   "cell_type": "code",
   "execution_count": 52,
   "id": "63050bad",
   "metadata": {},
   "outputs": [
    {
     "data": {
      "text/html": [
       "<div>\n",
       "<style scoped>\n",
       "    .dataframe tbody tr th:only-of-type {\n",
       "        vertical-align: middle;\n",
       "    }\n",
       "\n",
       "    .dataframe tbody tr th {\n",
       "        vertical-align: top;\n",
       "    }\n",
       "\n",
       "    .dataframe thead th {\n",
       "        text-align: right;\n",
       "    }\n",
       "</style>\n",
       "<table border=\"1\" class=\"dataframe\">\n",
       "  <thead>\n",
       "    <tr style=\"text-align: right;\">\n",
       "      <th></th>\n",
       "      <th>Team</th>\n",
       "      <th>Tournament</th>\n",
       "      <th>Score</th>\n",
       "      <th>PlayedGames</th>\n",
       "      <th>WonGames</th>\n",
       "      <th>DrawnGames</th>\n",
       "      <th>LostGames</th>\n",
       "      <th>BasketScored</th>\n",
       "      <th>BasketGiven</th>\n",
       "      <th>TeamLaunch</th>\n",
       "      <th>HighestPositionHeld</th>\n",
       "      <th>Score%</th>\n",
       "      <th>WonGames%</th>\n",
       "      <th>DrawnGames%</th>\n",
       "      <th>LostGames%</th>\n",
       "      <th>BasketScored%</th>\n",
       "      <th>BasketGiven%</th>\n",
       "    </tr>\n",
       "  </thead>\n",
       "  <tbody>\n",
       "    <tr>\n",
       "      <th>10</th>\n",
       "      <td>11</td>\n",
       "      <td>45</td>\n",
       "      <td>1814.0</td>\n",
       "      <td>1530.0</td>\n",
       "      <td>563.0</td>\n",
       "      <td>392.0</td>\n",
       "      <td>575.0</td>\n",
       "      <td>2052.0</td>\n",
       "      <td>2188.0</td>\n",
       "      <td>1941</td>\n",
       "      <td>1</td>\n",
       "      <td>1.19</td>\n",
       "      <td>0.37</td>\n",
       "      <td>0.26</td>\n",
       "      <td>0.38</td>\n",
       "      <td>1.34</td>\n",
       "      <td>1.43</td>\n",
       "    </tr>\n",
       "    <tr>\n",
       "      <th>12</th>\n",
       "      <td>13</td>\n",
       "      <td>42</td>\n",
       "      <td>1471.0</td>\n",
       "      <td>1466.0</td>\n",
       "      <td>463.0</td>\n",
       "      <td>384.0</td>\n",
       "      <td>619.0</td>\n",
       "      <td>1767.0</td>\n",
       "      <td>2180.0</td>\n",
       "      <td>1948</td>\n",
       "      <td>4</td>\n",
       "      <td>1.00</td>\n",
       "      <td>0.32</td>\n",
       "      <td>0.26</td>\n",
       "      <td>0.42</td>\n",
       "      <td>1.21</td>\n",
       "      <td>1.49</td>\n",
       "    </tr>\n",
       "    <tr>\n",
       "      <th>14</th>\n",
       "      <td>15</td>\n",
       "      <td>43</td>\n",
       "      <td>1389.0</td>\n",
       "      <td>1458.0</td>\n",
       "      <td>471.0</td>\n",
       "      <td>358.0</td>\n",
       "      <td>629.0</td>\n",
       "      <td>1753.0</td>\n",
       "      <td>2152.0</td>\n",
       "      <td>1944</td>\n",
       "      <td>2</td>\n",
       "      <td>0.95</td>\n",
       "      <td>0.32</td>\n",
       "      <td>0.25</td>\n",
       "      <td>0.43</td>\n",
       "      <td>1.20</td>\n",
       "      <td>1.48</td>\n",
       "    </tr>\n",
       "    <tr>\n",
       "      <th>16</th>\n",
       "      <td>17</td>\n",
       "      <td>36</td>\n",
       "      <td>1314.0</td>\n",
       "      <td>1255.0</td>\n",
       "      <td>390.0</td>\n",
       "      <td>330.0</td>\n",
       "      <td>535.0</td>\n",
       "      <td>1421.0</td>\n",
       "      <td>1763.0</td>\n",
       "      <td>1949</td>\n",
       "      <td>4</td>\n",
       "      <td>1.05</td>\n",
       "      <td>0.31</td>\n",
       "      <td>0.26</td>\n",
       "      <td>0.43</td>\n",
       "      <td>1.13</td>\n",
       "      <td>1.40</td>\n",
       "    </tr>\n",
       "    <tr>\n",
       "      <th>18</th>\n",
       "      <td>19</td>\n",
       "      <td>27</td>\n",
       "      <td>1148.0</td>\n",
       "      <td>988.0</td>\n",
       "      <td>333.0</td>\n",
       "      <td>256.0</td>\n",
       "      <td>399.0</td>\n",
       "      <td>1182.0</td>\n",
       "      <td>1371.0</td>\n",
       "      <td>1960</td>\n",
       "      <td>3</td>\n",
       "      <td>1.16</td>\n",
       "      <td>0.34</td>\n",
       "      <td>0.26</td>\n",
       "      <td>0.40</td>\n",
       "      <td>1.20</td>\n",
       "      <td>1.39</td>\n",
       "    </tr>\n",
       "    <tr>\n",
       "      <th>19</th>\n",
       "      <td>20</td>\n",
       "      <td>33</td>\n",
       "      <td>1020.0</td>\n",
       "      <td>1096.0</td>\n",
       "      <td>367.0</td>\n",
       "      <td>242.0</td>\n",
       "      <td>487.0</td>\n",
       "      <td>1347.0</td>\n",
       "      <td>1746.0</td>\n",
       "      <td>1951</td>\n",
       "      <td>2</td>\n",
       "      <td>0.93</td>\n",
       "      <td>0.33</td>\n",
       "      <td>0.22</td>\n",
       "      <td>0.44</td>\n",
       "      <td>1.23</td>\n",
       "      <td>1.59</td>\n",
       "    </tr>\n",
       "    <tr>\n",
       "      <th>20</th>\n",
       "      <td>21</td>\n",
       "      <td>17</td>\n",
       "      <td>970.0</td>\n",
       "      <td>646.0</td>\n",
       "      <td>266.0</td>\n",
       "      <td>172.0</td>\n",
       "      <td>208.0</td>\n",
       "      <td>892.0</td>\n",
       "      <td>789.0</td>\n",
       "      <td>1998</td>\n",
       "      <td>2</td>\n",
       "      <td>1.50</td>\n",
       "      <td>0.41</td>\n",
       "      <td>0.27</td>\n",
       "      <td>0.32</td>\n",
       "      <td>1.38</td>\n",
       "      <td>1.22</td>\n",
       "    </tr>\n",
       "  </tbody>\n",
       "</table>\n",
       "</div>"
      ],
      "text/plain": [
       "    Team  Tournament   Score  PlayedGames  WonGames  DrawnGames  LostGames  \\\n",
       "10    11          45  1814.0       1530.0     563.0       392.0      575.0   \n",
       "12    13          42  1471.0       1466.0     463.0       384.0      619.0   \n",
       "14    15          43  1389.0       1458.0     471.0       358.0      629.0   \n",
       "16    17          36  1314.0       1255.0     390.0       330.0      535.0   \n",
       "18    19          27  1148.0        988.0     333.0       256.0      399.0   \n",
       "19    20          33  1020.0       1096.0     367.0       242.0      487.0   \n",
       "20    21          17   970.0        646.0     266.0       172.0      208.0   \n",
       "\n",
       "    BasketScored  BasketGiven  TeamLaunch  HighestPositionHeld  Score%  \\\n",
       "10        2052.0       2188.0        1941                    1    1.19   \n",
       "12        1767.0       2180.0        1948                    4    1.00   \n",
       "14        1753.0       2152.0        1944                    2    0.95   \n",
       "16        1421.0       1763.0        1949                    4    1.05   \n",
       "18        1182.0       1371.0        1960                    3    1.16   \n",
       "19        1347.0       1746.0        1951                    2    0.93   \n",
       "20         892.0        789.0        1998                    2    1.50   \n",
       "\n",
       "    WonGames%  DrawnGames%  LostGames%  BasketScored%  BasketGiven%  \n",
       "10       0.37         0.26        0.38           1.34          1.43  \n",
       "12       0.32         0.26        0.42           1.21          1.49  \n",
       "14       0.32         0.25        0.43           1.20          1.48  \n",
       "16       0.31         0.26        0.43           1.13          1.40  \n",
       "18       0.34         0.26        0.40           1.20          1.39  \n",
       "19       0.33         0.22        0.44           1.23          1.59  \n",
       "20       0.41         0.27        0.32           1.38          1.22  "
      ]
     },
     "execution_count": 52,
     "metadata": {},
     "output_type": "execute_result"
    }
   ],
   "source": [
    "#so we are removing the older teams from the dataset\n",
    "df=df[df[\"TeamLaunch\"]>1939]\n",
    "df.head(7)"
   ]
  },
  {
   "cell_type": "code",
   "execution_count": 53,
   "id": "7850e752",
   "metadata": {},
   "outputs": [
    {
     "data": {
      "text/plain": [
       "<AxesSubplot:xlabel='Team', ylabel='TeamLaunch'>"
      ]
     },
     "execution_count": 53,
     "metadata": {},
     "output_type": "execute_result"
    },
    {
     "data": {
      "image/png": "[encoded data removed]",
      "text/plain": [
       "<Figure size 2160x1440 with 1 Axes>"
      ]
     },
     "metadata": {
      "needs_background": "light"
     },
     "output_type": "display_data"
    }
   ],
   "source": [
    "plt.figure(figsize=(30,20))\n",
    "sns.barplot(data=df,x='Team',y= 'TeamLaunch')"
   ]
  },
  {
   "cell_type": "code",
   "execution_count": 54,
   "id": "659e1f35",
   "metadata": {},
   "outputs": [
    {
     "data": {
      "text/plain": [
       "<AxesSubplot:xlabel='PlayedGames', ylabel='WonGames%'>"
      ]
     },
     "execution_count": 54,
     "metadata": {},
     "output_type": "execute_result"
    },
    {
     "data": {
      "image/png": "[encoded data removed]",
      "text/plain": [
       "<Figure size 2160x1440 with 1 Axes>"
      ]
     },
     "metadata": {
      "needs_background": "light"
     },
     "output_type": "display_data"
    }
   ],
   "source": [
    "# cross tab of played games and won %\n",
    "plt.figure(figsize=(30,20))\n",
    "sns.barplot(data = df,x ='PlayedGames',y ='WonGames%')"
   ]
  },
  {
   "cell_type": "code",
   "execution_count": 55,
   "id": "2082fbe8",
   "metadata": {},
   "outputs": [
    {
     "data": {
      "text/plain": [
       "<AxesSubplot:xlabel='Team', ylabel='Score%'>"
      ]
     },
     "execution_count": 55,
     "metadata": {},
     "output_type": "execute_result"
    },
    {
     "data": {
      "image/png": "[encoded data removed]",
      "text/plain": [
       "<Figure size 2160x1440 with 1 Axes>"
      ]
     },
     "metadata": {
      "needs_background": "light"
     },
     "output_type": "display_data"
    }
   ],
   "source": [
    "#Score % of teams\n",
    "plt.figure(figsize=(30,20))\n",
    "sns.barplot(data = df , x = 'Team', y= 'Score%')"
   ]
  },
  {
   "cell_type": "code",
   "execution_count": 56,
   "id": "5153a524",
   "metadata": {},
   "outputs": [
    {
     "data": {
      "text/html": [
       "<div>\n",
       "<style scoped>\n",
       "    .dataframe tbody tr th:only-of-type {\n",
       "        vertical-align: middle;\n",
       "    }\n",
       "\n",
       "    .dataframe tbody tr th {\n",
       "        vertical-align: top;\n",
       "    }\n",
       "\n",
       "    .dataframe thead th {\n",
       "        text-align: right;\n",
       "    }\n",
       "</style>\n",
       "<table border=\"1\" class=\"dataframe\">\n",
       "  <thead>\n",
       "    <tr style=\"text-align: right;\">\n",
       "      <th></th>\n",
       "      <th>Team</th>\n",
       "      <th>Tournament</th>\n",
       "      <th>Score</th>\n",
       "      <th>PlayedGames</th>\n",
       "      <th>WonGames</th>\n",
       "      <th>DrawnGames</th>\n",
       "      <th>LostGames</th>\n",
       "      <th>BasketScored</th>\n",
       "      <th>BasketGiven</th>\n",
       "      <th>TeamLaunch</th>\n",
       "      <th>...</th>\n",
       "      <th>Score%</th>\n",
       "      <th>WonGames%</th>\n",
       "      <th>DrawnGames%</th>\n",
       "      <th>LostGames%</th>\n",
       "      <th>BasketScored%</th>\n",
       "      <th>BasketGiven%</th>\n",
       "      <th>winrank</th>\n",
       "      <th>Scorerank</th>\n",
       "      <th>BasketScoredrank</th>\n",
       "      <th>LostGamesrank</th>\n",
       "    </tr>\n",
       "  </thead>\n",
       "  <tbody>\n",
       "    <tr>\n",
       "      <th>10</th>\n",
       "      <td>11</td>\n",
       "      <td>45</td>\n",
       "      <td>1814.0</td>\n",
       "      <td>1530.0</td>\n",
       "      <td>563.0</td>\n",
       "      <td>392.0</td>\n",
       "      <td>575.0</td>\n",
       "      <td>2052.0</td>\n",
       "      <td>2188.0</td>\n",
       "      <td>1941</td>\n",
       "      <td>...</td>\n",
       "      <td>1.19</td>\n",
       "      <td>0.37</td>\n",
       "      <td>0.26</td>\n",
       "      <td>0.38</td>\n",
       "      <td>1.34</td>\n",
       "      <td>1.43</td>\n",
       "      <td>2.0</td>\n",
       "      <td>3.5</td>\n",
       "      <td>5.0</td>\n",
       "      <td>2.0</td>\n",
       "    </tr>\n",
       "    <tr>\n",
       "      <th>12</th>\n",
       "      <td>13</td>\n",
       "      <td>42</td>\n",
       "      <td>1471.0</td>\n",
       "      <td>1466.0</td>\n",
       "      <td>463.0</td>\n",
       "      <td>384.0</td>\n",
       "      <td>619.0</td>\n",
       "      <td>1767.0</td>\n",
       "      <td>2180.0</td>\n",
       "      <td>1948</td>\n",
       "      <td>...</td>\n",
       "      <td>1.00</td>\n",
       "      <td>0.32</td>\n",
       "      <td>0.26</td>\n",
       "      <td>0.42</td>\n",
       "      <td>1.21</td>\n",
       "      <td>1.49</td>\n",
       "      <td>7.0</td>\n",
       "      <td>16.0</td>\n",
       "      <td>13.0</td>\n",
       "      <td>6.0</td>\n",
       "    </tr>\n",
       "    <tr>\n",
       "      <th>14</th>\n",
       "      <td>15</td>\n",
       "      <td>43</td>\n",
       "      <td>1389.0</td>\n",
       "      <td>1458.0</td>\n",
       "      <td>471.0</td>\n",
       "      <td>358.0</td>\n",
       "      <td>629.0</td>\n",
       "      <td>1753.0</td>\n",
       "      <td>2152.0</td>\n",
       "      <td>1944</td>\n",
       "      <td>...</td>\n",
       "      <td>0.95</td>\n",
       "      <td>0.32</td>\n",
       "      <td>0.25</td>\n",
       "      <td>0.43</td>\n",
       "      <td>1.20</td>\n",
       "      <td>1.48</td>\n",
       "      <td>7.0</td>\n",
       "      <td>18.0</td>\n",
       "      <td>14.5</td>\n",
       "      <td>8.5</td>\n",
       "    </tr>\n",
       "    <tr>\n",
       "      <th>18</th>\n",
       "      <td>19</td>\n",
       "      <td>27</td>\n",
       "      <td>1148.0</td>\n",
       "      <td>988.0</td>\n",
       "      <td>333.0</td>\n",
       "      <td>256.0</td>\n",
       "      <td>399.0</td>\n",
       "      <td>1182.0</td>\n",
       "      <td>1371.0</td>\n",
       "      <td>1960</td>\n",
       "      <td>...</td>\n",
       "      <td>1.16</td>\n",
       "      <td>0.34</td>\n",
       "      <td>0.26</td>\n",
       "      <td>0.40</td>\n",
       "      <td>1.20</td>\n",
       "      <td>1.39</td>\n",
       "      <td>3.0</td>\n",
       "      <td>5.5</td>\n",
       "      <td>14.5</td>\n",
       "      <td>5.0</td>\n",
       "    </tr>\n",
       "    <tr>\n",
       "      <th>19</th>\n",
       "      <td>20</td>\n",
       "      <td>33</td>\n",
       "      <td>1020.0</td>\n",
       "      <td>1096.0</td>\n",
       "      <td>367.0</td>\n",
       "      <td>242.0</td>\n",
       "      <td>487.0</td>\n",
       "      <td>1347.0</td>\n",
       "      <td>1746.0</td>\n",
       "      <td>1951</td>\n",
       "      <td>...</td>\n",
       "      <td>0.93</td>\n",
       "      <td>0.33</td>\n",
       "      <td>0.22</td>\n",
       "      <td>0.44</td>\n",
       "      <td>1.23</td>\n",
       "      <td>1.59</td>\n",
       "      <td>4.0</td>\n",
       "      <td>19.0</td>\n",
       "      <td>10.5</td>\n",
       "      <td>12.0</td>\n",
       "    </tr>\n",
       "    <tr>\n",
       "      <th>20</th>\n",
       "      <td>21</td>\n",
       "      <td>17</td>\n",
       "      <td>970.0</td>\n",
       "      <td>646.0</td>\n",
       "      <td>266.0</td>\n",
       "      <td>172.0</td>\n",
       "      <td>208.0</td>\n",
       "      <td>892.0</td>\n",
       "      <td>789.0</td>\n",
       "      <td>1998</td>\n",
       "      <td>...</td>\n",
       "      <td>1.50</td>\n",
       "      <td>0.41</td>\n",
       "      <td>0.27</td>\n",
       "      <td>0.32</td>\n",
       "      <td>1.38</td>\n",
       "      <td>1.22</td>\n",
       "      <td>1.0</td>\n",
       "      <td>1.0</td>\n",
       "      <td>3.0</td>\n",
       "      <td>1.0</td>\n",
       "    </tr>\n",
       "    <tr>\n",
       "      <th>24</th>\n",
       "      <td>25</td>\n",
       "      <td>12</td>\n",
       "      <td>553.0</td>\n",
       "      <td>456.0</td>\n",
       "      <td>147.0</td>\n",
       "      <td>112.0</td>\n",
       "      <td>197.0</td>\n",
       "      <td>520.0</td>\n",
       "      <td>633.0</td>\n",
       "      <td>2004</td>\n",
       "      <td>...</td>\n",
       "      <td>1.21</td>\n",
       "      <td>0.32</td>\n",
       "      <td>0.25</td>\n",
       "      <td>0.43</td>\n",
       "      <td>1.14</td>\n",
       "      <td>1.39</td>\n",
       "      <td>7.0</td>\n",
       "      <td>2.0</td>\n",
       "      <td>19.0</td>\n",
       "      <td>8.5</td>\n",
       "    </tr>\n",
       "    <tr>\n",
       "      <th>38</th>\n",
       "      <td>39</td>\n",
       "      <td>4</td>\n",
       "      <td>190.0</td>\n",
       "      <td>160.0</td>\n",
       "      <td>52.0</td>\n",
       "      <td>45.0</td>\n",
       "      <td>63.0</td>\n",
       "      <td>199.0</td>\n",
       "      <td>241.0</td>\n",
       "      <td>1994</td>\n",
       "      <td>...</td>\n",
       "      <td>1.19</td>\n",
       "      <td>0.32</td>\n",
       "      <td>0.28</td>\n",
       "      <td>0.39</td>\n",
       "      <td>1.24</td>\n",
       "      <td>1.51</td>\n",
       "      <td>7.0</td>\n",
       "      <td>3.5</td>\n",
       "      <td>9.0</td>\n",
       "      <td>3.5</td>\n",
       "    </tr>\n",
       "    <tr>\n",
       "      <th>50</th>\n",
       "      <td>51</td>\n",
       "      <td>3</td>\n",
       "      <td>71.0</td>\n",
       "      <td>90.0</td>\n",
       "      <td>29.0</td>\n",
       "      <td>13.0</td>\n",
       "      <td>48.0</td>\n",
       "      <td>121.0</td>\n",
       "      <td>183.0</td>\n",
       "      <td>1953</td>\n",
       "      <td>...</td>\n",
       "      <td>0.79</td>\n",
       "      <td>0.32</td>\n",
       "      <td>0.14</td>\n",
       "      <td>0.53</td>\n",
       "      <td>1.34</td>\n",
       "      <td>2.03</td>\n",
       "      <td>7.0</td>\n",
       "      <td>32.0</td>\n",
       "      <td>5.0</td>\n",
       "      <td>35.5</td>\n",
       "    </tr>\n",
       "  </tbody>\n",
       "</table>\n",
       "<p>9 rows × 21 columns</p>\n",
       "</div>"
      ],
      "text/plain": [
       "    Team  Tournament   Score  PlayedGames  WonGames  DrawnGames  LostGames  \\\n",
       "10    11          45  1814.0       1530.0     563.0       392.0      575.0   \n",
       "12    13          42  1471.0       1466.0     463.0       384.0      619.0   \n",
       "14    15          43  1389.0       1458.0     471.0       358.0      629.0   \n",
       "18    19          27  1148.0        988.0     333.0       256.0      399.0   \n",
       "19    20          33  1020.0       1096.0     367.0       242.0      487.0   \n",
       "20    21          17   970.0        646.0     266.0       172.0      208.0   \n",
       "24    25          12   553.0        456.0     147.0       112.0      197.0   \n",
       "38    39           4   190.0        160.0      52.0        45.0       63.0   \n",
       "50    51           3    71.0         90.0      29.0        13.0       48.0   \n",
       "\n",
       "    BasketScored  BasketGiven  TeamLaunch  ...  Score%  WonGames%  \\\n",
       "10        2052.0       2188.0        1941  ...    1.19       0.37   \n",
       "12        1767.0       2180.0        1948  ...    1.00       0.32   \n",
       "14        1753.0       2152.0        1944  ...    0.95       0.32   \n",
       "18        1182.0       1371.0        1960  ...    1.16       0.34   \n",
       "19        1347.0       1746.0        1951  ...    0.93       0.33   \n",
       "20         892.0        789.0        1998  ...    1.50       0.41   \n",
       "24         520.0        633.0        2004  ...    1.21       0.32   \n",
       "38         199.0        241.0        1994  ...    1.19       0.32   \n",
       "50         121.0        183.0        1953  ...    0.79       0.32   \n",
       "\n",
       "    DrawnGames%  LostGames%  BasketScored%  BasketGiven%  winrank  Scorerank  \\\n",
       "10         0.26        0.38           1.34          1.43      2.0        3.5   \n",
       "12         0.26        0.42           1.21          1.49      7.0       16.0   \n",
       "14         0.25        0.43           1.20          1.48      7.0       18.0   \n",
       "18         0.26        0.40           1.20          1.39      3.0        5.5   \n",
       "19         0.22        0.44           1.23          1.59      4.0       19.0   \n",
       "20         0.27        0.32           1.38          1.22      1.0        1.0   \n",
       "24         0.25        0.43           1.14          1.39      7.0        2.0   \n",
       "38         0.28        0.39           1.24          1.51      7.0        3.5   \n",
       "50         0.14        0.53           1.34          2.03      7.0       32.0   \n",
       "\n",
       "    BasketScoredrank  LostGamesrank  \n",
       "10               5.0            2.0  \n",
       "12              13.0            6.0  \n",
       "14              14.5            8.5  \n",
       "18              14.5            5.0  \n",
       "19              10.5           12.0  \n",
       "20               3.0            1.0  \n",
       "24              19.0            8.5  \n",
       "38               9.0            3.5  \n",
       "50               5.0           35.5  \n",
       "\n",
       "[9 rows x 21 columns]"
      ]
     },
     "execution_count": 56,
     "metadata": {},
     "output_type": "execute_result"
    }
   ],
   "source": [
    "# Finding the top ten teams with maximum win %\n",
    "\n",
    "df['winrank']=df[\"WonGames%\"].rank(ascending=False)\n",
    "\n",
    "df['Scorerank']=df[\"Score%\"].rank(ascending=False)\n",
    "df['BasketScoredrank']=df[\"BasketScored%\"].rank(ascending=False)\n",
    "df['LostGamesrank']=df[\"LostGames%\"].rank(ascending=True)\n",
    "df2=df[df[\"winrank\"]<=10]\n",
    "df2\n"
   ]
  },
  {
   "cell_type": "markdown",
   "id": "207ad690",
   "metadata": {},
   "source": [
    "Multi-Variate Analysis\n",
    "\n",
    "\n",
    "we are doing multivariate analysis for these top ten teams"
   ]
  },
  {
   "cell_type": "code",
   "execution_count": 57,
   "id": "0d92851c",
   "metadata": {},
   "outputs": [
    {
     "data": {
      "image/png": "[encoded data removed]",
      "text/plain": [
       "<Figure size 432x288 with 1 Axes>"
      ]
     },
     "metadata": {
      "needs_background": "light"
     },
     "output_type": "display_data"
    }
   ],
   "source": [
    "plt.bar(x=df2[\"Team\"], height=df2[\"WonGames%\"], width=0.4, color='red')\n",
    "plt.bar(x=df2[\"Team\"]+0.4, height=df2[\"Score%\"], width=0.4, color='blue')\n",
    "\n",
    "plt.show()"
   ]
  },
  {
   "cell_type": "markdown",
   "id": "91c1295b",
   "metadata": {},
   "source": [
    "Pairplot"
   ]
  },
  {
   "cell_type": "code",
   "execution_count": 58,
   "id": "ccca1a63",
   "metadata": {},
   "outputs": [
    {
     "data": {
      "text/plain": [
       "<seaborn.axisgrid.PairGrid at 0x192b5d66400>"
      ]
     },
     "execution_count": 58,
     "metadata": {},
     "output_type": "execute_result"
    },
    {
     "data": {
      "text/plain": [
       "<Figure size 1080x720 with 0 Axes>"
      ]
     },
     "metadata": {},
     "output_type": "display_data"
    },
    {
     "data": {
      "image/png": "[encoded data removed]",
      "text/plain": [
       "<Figure size 1080x1080 with 42 Axes>"
      ]
     },
     "metadata": {
      "needs_background": "light"
     },
     "output_type": "display_data"
    }
   ],
   "source": [
    "df2_copy=df.iloc[:,-7:-1]\n",
    "plt.figure(figsize = (15,10))\n",
    "sns.pairplot(df2_copy)"
   ]
  },
  {
   "cell_type": "markdown",
   "id": "da86e3a9",
   "metadata": {},
   "source": [
    "INFERENCES\n",
    "\n",
    "\n",
    "From the above graphs and the rankings given it is evident that team 20 is the best choice of investment"
   ]
  },
  {
   "cell_type": "markdown",
   "id": "a863dcd6",
   "metadata": {},
   "source": [
    "# 3. Please include any improvements or suggestions to the association management on quality, quantity, variety, velocity,veracity etc. on the data points collected by the association to perform a better data analysis in future.Submit a 200-500 words report to the management\n"
   ]
  },
  {
   "cell_type": "markdown",
   "id": "03f433a7",
   "metadata": {},
   "source": [
    "The dataset provided certain insights to the selection of the best team for investment.However there are improvements needed in certain areas inorder to get a clear picture for making a decision\n",
    "\n",
    "One major drawback is the lack of data of teams who are alrady in cntract with other investors.If this data was provided it would have been easier to eliminate the unwanted teams\n",
    "\n",
    "One more major drawback is about the timings of the winnings.The data only encompasses of the games played and wins but it failed to say when this happened.\n",
    "\n",
    "The issue with this suppose a team who started way back in 1930 must have been in form at their older times but may be inconsistent or out of form at the present time period\n",
    "So rather than collecting raw data from inception of the team to the present day a particular time period like 20 years should be given and in contrast the statistics of last two years also should be highlighted.\n",
    "This will give a better understanding of the present form of the teams and can be put in contrast with their legacy\n",
    "\n",
    "Other parameters that can be included can be the\n",
    "1)Average age of the players in the team\n",
    "2)Longest winning streak\n",
    "3)Longest loosing streak\n",
    "4)Number of tournament trophies\n",
    "etc\n",
    "\n",
    "All these can boost the chances of a precise prediction\n",
    "\n",
    "While working on the datset it was noted that two parameters which is highest tournament position and runner up were majorly null values.If we had the data it would have aided in finding the best team\n",
    "\n",
    "​"
   ]
  },
  {
   "cell_type": "code",
   "execution_count": null,
   "id": "f562967a",
   "metadata": {},
   "outputs": [],
   "source": []
  }
 ],
 "metadata": {
  "kernelspec": {
   "display_name": "Python 3 (ipykernel)",
   "language": "python",
   "name": "python3"
  },
  "language_info": {
   "codemirror_mode": {
    "name": "ipython",
    "version": 3
   },
   "file_extension": ".py",
   "mimetype": "text/x-python",
   "name": "python",
   "nbconvert_exporter": "python",
   "pygments_lexer": "ipython3",
   "version": "3.9.7"
  }
 },
 "nbformat": 4,
 "nbformat_minor": 5
}
